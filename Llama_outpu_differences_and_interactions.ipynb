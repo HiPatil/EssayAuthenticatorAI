{
 "cells": [
  {
   "cell_type": "code",
   "execution_count": 1,
   "id": "a1ab7621",
   "metadata": {},
   "outputs": [],
   "source": [
    "import pandas as pd"
   ]
  },
  {
   "cell_type": "code",
   "execution_count": 2,
   "id": "90882fd2",
   "metadata": {},
   "outputs": [],
   "source": [
    "import torch"
   ]
  },
  {
   "cell_type": "code",
   "execution_count": 3,
   "id": "cc651b0d",
   "metadata": {},
   "outputs": [],
   "source": [
    "data = pd.read_csv('all_data.csv')"
   ]
  },
  {
   "cell_type": "code",
   "execution_count": 18,
   "id": "33d58306",
   "metadata": {},
   "outputs": [],
   "source": [
    "split_percentage = 80\n",
    "\n",
    "# Randomly shuffle the DataFrame\n",
    "df_shuffled = data.sample(frac=1, random_state=42)\n",
    "\n",
    "# Calculate the split index\n",
    "split_idx = int(len(df_shuffled) * (split_percentage / 100))\n",
    "\n",
    "# Split the DataFrame into two\n",
    "df1 = df_shuffled[:split_idx]\n",
    "df2 = df_shuffled[split_idx:]\n",
    "\n"
   ]
  },
  {
   "cell_type": "code",
   "execution_count": 21,
   "id": "78ec0209",
   "metadata": {},
   "outputs": [
    {
     "data": {
      "text/plain": [
       "(1662, 416)"
      ]
     },
     "execution_count": 21,
     "metadata": {},
     "output_type": "execute_result"
    }
   ],
   "source": [
    "len(df1), len(df2)"
   ]
  },
  {
   "cell_type": "code",
   "execution_count": 24,
   "id": "714fa607",
   "metadata": {},
   "outputs": [
    {
     "data": {
      "text/html": [
       "<div>\n",
       "<style scoped>\n",
       "    .dataframe tbody tr th:only-of-type {\n",
       "        vertical-align: middle;\n",
       "    }\n",
       "\n",
       "    .dataframe tbody tr th {\n",
       "        vertical-align: top;\n",
       "    }\n",
       "\n",
       "    .dataframe thead th {\n",
       "        text-align: right;\n",
       "    }\n",
       "</style>\n",
       "<table border=\"1\" class=\"dataframe\">\n",
       "  <thead>\n",
       "    <tr style=\"text-align: right;\">\n",
       "      <th></th>\n",
       "      <th>Unnamed: 0</th>\n",
       "      <th>id</th>\n",
       "      <th>prompt_id</th>\n",
       "      <th>text</th>\n",
       "      <th>generated</th>\n",
       "      <th>indexes</th>\n",
       "    </tr>\n",
       "  </thead>\n",
       "  <tbody>\n",
       "    <tr>\n",
       "      <th>571</th>\n",
       "      <td>571</td>\n",
       "      <td>cac4272e</td>\n",
       "      <td>1</td>\n",
       "      <td>Dear Senator [Senator's Last Name],\\n\\nI am wr...</td>\n",
       "      <td>1</td>\n",
       "      <td>[28, 1, 162, 183, 8, 1, 1, 4, 1, 3, 1, 1, 1, 8...</td>\n",
       "    </tr>\n",
       "    <tr>\n",
       "      <th>1498</th>\n",
       "      <td>1498</td>\n",
       "      <td>9124e664</td>\n",
       "      <td>1</td>\n",
       "      <td>The Electoral College is a process that has be...</td>\n",
       "      <td>0</td>\n",
       "      <td>[3, 1312, 1, 1, 1, 1, 3, 2, 4, 1, 2, 4, 12, 1,...</td>\n",
       "    </tr>\n",
       "    <tr>\n",
       "      <th>1342</th>\n",
       "      <td>1342</td>\n",
       "      <td>7611ff17</td>\n",
       "      <td>0</td>\n",
       "      <td>Car usage could easily help detoriate waste an...</td>\n",
       "      <td>0</td>\n",
       "      <td>[269, 4208, 25, 97, 96, 982, 27, 1, 2294, 4, 1...</td>\n",
       "    </tr>\n",
       "    <tr>\n",
       "      <th>1437</th>\n",
       "      <td>1437</td>\n",
       "      <td>8656ffec</td>\n",
       "      <td>0</td>\n",
       "      <td>For years, the United States has been mass pro...</td>\n",
       "      <td>0</td>\n",
       "      <td>[36, 13, 1, 1, 5, 1, 1, 1, 817, 3, 1, 5, 161, ...</td>\n",
       "    </tr>\n",
       "    <tr>\n",
       "      <th>745</th>\n",
       "      <td>745</td>\n",
       "      <td>0a4a6c5b</td>\n",
       "      <td>0</td>\n",
       "      <td>\"All of our development since world war II has...</td>\n",
       "      <td>0</td>\n",
       "      <td>[53, 48, 2, 3, 238, 60, 209, 1, 1, 1, 1, 38, 2...</td>\n",
       "    </tr>\n",
       "  </tbody>\n",
       "</table>\n",
       "</div>"
      ],
      "text/plain": [
       "      Unnamed: 0        id  prompt_id  \\\n",
       "571          571  cac4272e          1   \n",
       "1498        1498  9124e664          1   \n",
       "1342        1342  7611ff17          0   \n",
       "1437        1437  8656ffec          0   \n",
       "745          745  0a4a6c5b          0   \n",
       "\n",
       "                                                   text  generated  \\\n",
       "571   Dear Senator [Senator's Last Name],\\n\\nI am wr...          1   \n",
       "1498  The Electoral College is a process that has be...          0   \n",
       "1342  Car usage could easily help detoriate waste an...          0   \n",
       "1437  For years, the United States has been mass pro...          0   \n",
       "745   \"All of our development since world war II has...          0   \n",
       "\n",
       "                                                indexes  \n",
       "571   [28, 1, 162, 183, 8, 1, 1, 4, 1, 3, 1, 1, 1, 8...  \n",
       "1498  [3, 1312, 1, 1, 1, 1, 3, 2, 4, 1, 2, 4, 12, 1,...  \n",
       "1342  [269, 4208, 25, 97, 96, 982, 27, 1, 2294, 4, 1...  \n",
       "1437  [36, 13, 1, 1, 5, 1, 1, 1, 817, 3, 1, 5, 161, ...  \n",
       "745   [53, 48, 2, 3, 238, 60, 209, 1, 1, 1, 1, 38, 2...  "
      ]
     },
     "execution_count": 24,
     "metadata": {},
     "output_type": "execute_result"
    }
   ],
   "source": [
    "df1.head()"
   ]
  },
  {
   "cell_type": "code",
   "execution_count": 4,
   "id": "44542775",
   "metadata": {},
   "outputs": [
    {
     "data": {
      "text/html": [
       "<div>\n",
       "<style scoped>\n",
       "    .dataframe tbody tr th:only-of-type {\n",
       "        vertical-align: middle;\n",
       "    }\n",
       "\n",
       "    .dataframe tbody tr th {\n",
       "        vertical-align: top;\n",
       "    }\n",
       "\n",
       "    .dataframe thead th {\n",
       "        text-align: right;\n",
       "    }\n",
       "</style>\n",
       "<table border=\"1\" class=\"dataframe\">\n",
       "  <thead>\n",
       "    <tr style=\"text-align: right;\">\n",
       "      <th></th>\n",
       "      <th>Unnamed: 0</th>\n",
       "      <th>id</th>\n",
       "      <th>prompt_id</th>\n",
       "      <th>text</th>\n",
       "      <th>generated</th>\n",
       "      <th>indexes</th>\n",
       "    </tr>\n",
       "  </thead>\n",
       "  <tbody>\n",
       "    <tr>\n",
       "      <th>0</th>\n",
       "      <td>0</td>\n",
       "      <td>d429f032</td>\n",
       "      <td>0</td>\n",
       "      <td>Advantages of Limiting Car Usage \\n\\nLimiting ...</td>\n",
       "      <td>1</td>\n",
       "      <td>[699, 1, 1, 379, 2, 18, 13, 1, 27, 144, 13, 9,...</td>\n",
       "    </tr>\n",
       "    <tr>\n",
       "      <th>1</th>\n",
       "      <td>1</td>\n",
       "      <td>1ce279be</td>\n",
       "      <td>0</td>\n",
       "      <td>Advantages of Limiting Car Usage\\n\\nLimiting c...</td>\n",
       "      <td>1</td>\n",
       "      <td>[699, 1, 1, 379, 2, 18, 13, 1, 1, 776, 3, 1, 1...</td>\n",
       "    </tr>\n",
       "    <tr>\n",
       "      <th>2</th>\n",
       "      <td>2</td>\n",
       "      <td>c9595213</td>\n",
       "      <td>0</td>\n",
       "      <td>Limiting car usage has numerous advantages tha...</td>\n",
       "      <td>1</td>\n",
       "      <td>[2160, 4, 195, 7, 14, 22, 3, 12, 1, 14, 2, 1, ...</td>\n",
       "    </tr>\n",
       "    <tr>\n",
       "      <th>3</th>\n",
       "      <td>3</td>\n",
       "      <td>f2266d87</td>\n",
       "      <td>0</td>\n",
       "      <td>The passages provided discuss the advantages o...</td>\n",
       "      <td>1</td>\n",
       "      <td>[3, 4400, 3, 49, 101, 1, 33, 2, 436, 1, 83, 3,...</td>\n",
       "    </tr>\n",
       "    <tr>\n",
       "      <th>4</th>\n",
       "      <td>4</td>\n",
       "      <td>eeace4bd</td>\n",
       "      <td>0</td>\n",
       "      <td>Title: The Advantages of Limiting Car Usage\\n\\...</td>\n",
       "      <td>1</td>\n",
       "      <td>[191, 1, 1, 574, 1, 1, 338, 1, 16, 13, 1, 1, 9...</td>\n",
       "    </tr>\n",
       "  </tbody>\n",
       "</table>\n",
       "</div>"
      ],
      "text/plain": [
       "   Unnamed: 0        id  prompt_id  \\\n",
       "0           0  d429f032          0   \n",
       "1           1  1ce279be          0   \n",
       "2           2  c9595213          0   \n",
       "3           3  f2266d87          0   \n",
       "4           4  eeace4bd          0   \n",
       "\n",
       "                                                text  generated  \\\n",
       "0  Advantages of Limiting Car Usage \\n\\nLimiting ...          1   \n",
       "1  Advantages of Limiting Car Usage\\n\\nLimiting c...          1   \n",
       "2  Limiting car usage has numerous advantages tha...          1   \n",
       "3  The passages provided discuss the advantages o...          1   \n",
       "4  Title: The Advantages of Limiting Car Usage\\n\\...          1   \n",
       "\n",
       "                                             indexes  \n",
       "0  [699, 1, 1, 379, 2, 18, 13, 1, 27, 144, 13, 9,...  \n",
       "1  [699, 1, 1, 379, 2, 18, 13, 1, 1, 776, 3, 1, 1...  \n",
       "2  [2160, 4, 195, 7, 14, 22, 3, 12, 1, 14, 2, 1, ...  \n",
       "3  [3, 4400, 3, 49, 101, 1, 33, 2, 436, 1, 83, 3,...  \n",
       "4  [191, 1, 1, 574, 1, 1, 338, 1, 16, 13, 1, 1, 9...  "
      ]
     },
     "execution_count": 4,
     "metadata": {},
     "output_type": "execute_result"
    }
   ],
   "source": [
    "data.head()"
   ]
  },
  {
   "cell_type": "code",
   "execution_count": 5,
   "id": "5224098e",
   "metadata": {},
   "outputs": [
    {
     "data": {
      "text/plain": [
       "generated\n",
       "0    1375\n",
       "1     703\n",
       "Name: count, dtype: int64"
      ]
     },
     "execution_count": 5,
     "metadata": {},
     "output_type": "execute_result"
    }
   ],
   "source": [
    "data['generated'].value_counts()"
   ]
  },
  {
   "cell_type": "code",
   "execution_count": 28,
   "id": "2b175ddd",
   "metadata": {},
   "outputs": [
    {
     "data": {
      "text/plain": [
       "[0.26666666666666666,\n",
       " 0.06666666666666667,\n",
       " 0.06666666666666667,\n",
       " 0.06666666666666667,\n",
       " 0.06666666666666667,\n",
       " 0.06666666666666667,\n",
       " 0.06666666666666667,\n",
       " 0.06666666666666667,\n",
       " 0.06666666666666667,\n",
       " 0.2]"
      ]
     },
     "execution_count": 28,
     "metadata": {},
     "output_type": "execute_result"
    }
   ],
   "source": [
    "def bin_numbers(nums, max_num, normalize=False):\n",
    "    \"\"\"\n",
    "    Bins a list of integers based on a maximum number. Any integer over the maximum number is binned in the last bin.\n",
    "    \n",
    "    Args:\n",
    "    nums (list): List of integers.\n",
    "    max_num (int): Maximum number for binning.\n",
    "    normalize (bool): If True, normalize the bins by dividing by the total number of integers in the list.\n",
    "\n",
    "    Returns:\n",
    "    list: Binned and optionally normalized integers.\n",
    "    \"\"\"\n",
    "    nums = [int(x) for x in nums.replace('[',\"\").replace(\"]\",\"\").split(\",\")]\n",
    "    # Create bins for each number up to max_num, plus one extra bin for numbers greater than max_num\n",
    "    bins = [0] * (max_num )\n",
    "\n",
    "    # Count the occurrences of each number\n",
    "    for num in nums:\n",
    "        if num >= max_num:\n",
    "            bins[max_num-1] += 1\n",
    "        else:\n",
    "            bins[num-1] += 1\n",
    "\n",
    "    # Normalize if requested\n",
    "    if normalize:\n",
    "        total = sum(bins)\n",
    "        if total > 0:\n",
    "            bins = [count / total for count in bins]\n",
    "\n",
    "    return bins\n",
    "\n",
    "# Example usage\n",
    "nums = \"[1, 2, 3, 4, 5, 6, 7, 8, 9, 10, 11, 12,1,1,1]\"\n",
    "max_num = 10\n",
    "normalized_bins = bin_numbers(nums, max_num, normalize=True)\n",
    "normalized_bins"
   ]
  },
  {
   "cell_type": "code",
   "execution_count": 7,
   "id": "27105017",
   "metadata": {},
   "outputs": [
    {
     "name": "stdout",
     "output_type": "stream",
     "text": [
      "[1.1, 1.4, 2.2]\n"
     ]
    }
   ],
   "source": [
    "def differences(lst):\n",
    "    # Check if the list is empty or has only one element\n",
    "    if len(lst) < 2:\n",
    "        return []\n",
    "\n",
    "    # Calculate differences\n",
    "    diff_list = [lst[i] - lst[i - 1] for i in range(1, len(lst))]\n",
    "    return diff_list\n",
    "\n",
    "# Example usage\n",
    "float_list = [2.5, 3.6, 5.0, 7.2]\n",
    "diffs = differences(float_list)\n",
    "print(diffs)"
   ]
  },
  {
   "cell_type": "code",
   "execution_count": 8,
   "id": "5afbb9de",
   "metadata": {},
   "outputs": [],
   "source": [
    "def interactions(lst):\n",
    "    products = []\n",
    "    n = len(lst)\n",
    "\n",
    "    for i in range(n):\n",
    "        for j in range(i + 1, n):\n",
    "            products.append(lst[i] * lst[j])\n",
    "\n",
    "    return products"
   ]
  },
  {
   "cell_type": "code",
   "execution_count": 9,
   "id": "b22b12bf",
   "metadata": {},
   "outputs": [
    {
     "data": {
      "text/plain": [
       "[9.0, 12.5, 18.0, 18.0, 25.92, 36.0]"
      ]
     },
     "execution_count": 9,
     "metadata": {},
     "output_type": "execute_result"
    }
   ],
   "source": [
    "interactions(float_list)"
   ]
  },
  {
   "cell_type": "code",
   "execution_count": 29,
   "id": "e0d70bec",
   "metadata": {},
   "outputs": [],
   "source": [
    "\n",
    "input_data = torch.tensor(data.apply(lambda x: interactions(bin_numbers(x['indexes'], max_num=max_num, normalize=True)), axis = 1))"
   ]
  },
  {
   "cell_type": "code",
   "execution_count": 30,
   "id": "2b759bfc",
   "metadata": {},
   "outputs": [],
   "source": [
    "max_num = 200\n",
    "data['inputs'] = data.apply(lambda x: interactions(bin_numbers(x['indexes'], max_num=max_num, normalize=True)), axis = 1)"
   ]
  },
  {
   "cell_type": "code",
   "execution_count": 31,
   "id": "24a945ea",
   "metadata": {},
   "outputs": [
    {
     "data": {
      "text/html": [
       "<div>\n",
       "<style scoped>\n",
       "    .dataframe tbody tr th:only-of-type {\n",
       "        vertical-align: middle;\n",
       "    }\n",
       "\n",
       "    .dataframe tbody tr th {\n",
       "        vertical-align: top;\n",
       "    }\n",
       "\n",
       "    .dataframe thead th {\n",
       "        text-align: right;\n",
       "    }\n",
       "</style>\n",
       "<table border=\"1\" class=\"dataframe\">\n",
       "  <thead>\n",
       "    <tr style=\"text-align: right;\">\n",
       "      <th></th>\n",
       "      <th>Unnamed: 0</th>\n",
       "      <th>id</th>\n",
       "      <th>prompt_id</th>\n",
       "      <th>text</th>\n",
       "      <th>generated</th>\n",
       "      <th>indexes</th>\n",
       "      <th>inputs</th>\n",
       "    </tr>\n",
       "  </thead>\n",
       "  <tbody>\n",
       "    <tr>\n",
       "      <th>0</th>\n",
       "      <td>0</td>\n",
       "      <td>d429f032</td>\n",
       "      <td>0</td>\n",
       "      <td>Advantages of Limiting Car Usage \\n\\nLimiting ...</td>\n",
       "      <td>1</td>\n",
       "      <td>[699, 1, 1, 379, 2, 18, 13, 1, 27, 144, 13, 9,...</td>\n",
       "      <td>[0.08262569029733902, 0.04328012348908234, 0.0...</td>\n",
       "    </tr>\n",
       "    <tr>\n",
       "      <th>1</th>\n",
       "      <td>1</td>\n",
       "      <td>1ce279be</td>\n",
       "      <td>0</td>\n",
       "      <td>Advantages of Limiting Car Usage\\n\\nLimiting c...</td>\n",
       "      <td>1</td>\n",
       "      <td>[699, 1, 1, 379, 2, 18, 13, 1, 1, 776, 3, 1, 1...</td>\n",
       "      <td>[0.06891830112230629, 0.03805936032127362, 0.0...</td>\n",
       "    </tr>\n",
       "    <tr>\n",
       "      <th>2</th>\n",
       "      <td>2</td>\n",
       "      <td>c9595213</td>\n",
       "      <td>0</td>\n",
       "      <td>Limiting car usage has numerous advantages tha...</td>\n",
       "      <td>1</td>\n",
       "      <td>[2160, 4, 195, 7, 14, 22, 3, 12, 1, 14, 2, 1, ...</td>\n",
       "      <td>[0.08506616257088846, 0.030310931490776353, 0....</td>\n",
       "    </tr>\n",
       "    <tr>\n",
       "      <th>3</th>\n",
       "      <td>3</td>\n",
       "      <td>f2266d87</td>\n",
       "      <td>0</td>\n",
       "      <td>The passages provided discuss the advantages o...</td>\n",
       "      <td>1</td>\n",
       "      <td>[3, 4400, 3, 49, 101, 1, 33, 2, 436, 1, 83, 3,...</td>\n",
       "      <td>[0.06478726042441633, 0.044328125553548016, 0....</td>\n",
       "    </tr>\n",
       "    <tr>\n",
       "      <th>4</th>\n",
       "      <td>4</td>\n",
       "      <td>eeace4bd</td>\n",
       "      <td>0</td>\n",
       "      <td>Title: The Advantages of Limiting Car Usage\\n\\...</td>\n",
       "      <td>1</td>\n",
       "      <td>[191, 1, 1, 574, 1, 1, 338, 1, 16, 13, 1, 1, 9...</td>\n",
       "      <td>[0.08435732927359721, 0.027593518921270117, 0....</td>\n",
       "    </tr>\n",
       "  </tbody>\n",
       "</table>\n",
       "</div>"
      ],
      "text/plain": [
       "   Unnamed: 0        id  prompt_id  \\\n",
       "0           0  d429f032          0   \n",
       "1           1  1ce279be          0   \n",
       "2           2  c9595213          0   \n",
       "3           3  f2266d87          0   \n",
       "4           4  eeace4bd          0   \n",
       "\n",
       "                                                text  generated  \\\n",
       "0  Advantages of Limiting Car Usage \\n\\nLimiting ...          1   \n",
       "1  Advantages of Limiting Car Usage\\n\\nLimiting c...          1   \n",
       "2  Limiting car usage has numerous advantages tha...          1   \n",
       "3  The passages provided discuss the advantages o...          1   \n",
       "4  Title: The Advantages of Limiting Car Usage\\n\\...          1   \n",
       "\n",
       "                                             indexes  \\\n",
       "0  [699, 1, 1, 379, 2, 18, 13, 1, 27, 144, 13, 9,...   \n",
       "1  [699, 1, 1, 379, 2, 18, 13, 1, 1, 776, 3, 1, 1...   \n",
       "2  [2160, 4, 195, 7, 14, 22, 3, 12, 1, 14, 2, 1, ...   \n",
       "3  [3, 4400, 3, 49, 101, 1, 33, 2, 436, 1, 83, 3,...   \n",
       "4  [191, 1, 1, 574, 1, 1, 338, 1, 16, 13, 1, 1, 9...   \n",
       "\n",
       "                                              inputs  \n",
       "0  [0.08262569029733902, 0.04328012348908234, 0.0...  \n",
       "1  [0.06891830112230629, 0.03805936032127362, 0.0...  \n",
       "2  [0.08506616257088846, 0.030310931490776353, 0....  \n",
       "3  [0.06478726042441633, 0.044328125553548016, 0....  \n",
       "4  [0.08435732927359721, 0.027593518921270117, 0....  "
      ]
     },
     "execution_count": 31,
     "metadata": {},
     "output_type": "execute_result"
    }
   ],
   "source": [
    "data.head()"
   ]
  },
  {
   "cell_type": "code",
   "execution_count": 32,
   "id": "8288d28e",
   "metadata": {},
   "outputs": [],
   "source": [
    "split_percentage = 80\n",
    "\n",
    "# Randomly shuffle the DataFrame\n",
    "df_shuffled = data.sample(frac=1, random_state=42)\n",
    "\n",
    "# Calculate the split index\n",
    "split_idx = int(len(df_shuffled) * (split_percentage / 100))\n",
    "\n",
    "# Split the DataFrame into two\n",
    "df1 = df_shuffled[:split_idx]\n",
    "df2 = df_shuffled[split_idx:]"
   ]
  },
  {
   "cell_type": "code",
   "execution_count": 11,
   "id": "0140aa41",
   "metadata": {},
   "outputs": [],
   "source": [
    "output_data = torch.tensor(data['generated']).unsqueeze(1).to(torch.float32)"
   ]
  },
  {
   "cell_type": "code",
   "execution_count": 51,
   "id": "319d2c7f",
   "metadata": {},
   "outputs": [
    {
     "data": {
      "text/plain": [
       "(torch.Size([1662, 19900]), torch.Size([416, 19900]))"
      ]
     },
     "execution_count": 51,
     "metadata": {},
     "output_type": "execute_result"
    }
   ],
   "source": [
    "train_inputs = torch.tensor(df1['inputs'].tolist())\n",
    "val_inputs = torch.tensor(df2['inputs'].tolist())\n",
    "\n",
    "\n"
   ]
  },
  {
   "cell_type": "code",
   "execution_count": 61,
   "id": "6f1e7219",
   "metadata": {},
   "outputs": [
    {
     "data": {
      "text/plain": [
       "(torch.Size([1662, 1]), torch.Size([416, 1]))"
      ]
     },
     "execution_count": 61,
     "metadata": {},
     "output_type": "execute_result"
    }
   ],
   "source": [
    "train_output_data = torch.tensor(df1['generated'].tolist()).unsqueeze(1).to(torch.float32)\n",
    "val_output_data = torch.tensor(df2['generated'].tolist()).unsqueeze(1).to(torch.float32)\n",
    "train_output_data.shape, val_output_data.shape"
   ]
  },
  {
   "cell_type": "code",
   "execution_count": 62,
   "id": "233e2ab6",
   "metadata": {},
   "outputs": [],
   "source": [
    "max_num = 200\n"
   ]
  },
  {
   "cell_type": "code",
   "execution_count": 63,
   "id": "e3498234",
   "metadata": {},
   "outputs": [],
   "source": [
    "num_epochs = 200"
   ]
  },
  {
   "cell_type": "code",
   "execution_count": 66,
   "id": "ff63a851",
   "metadata": {},
   "outputs": [
    {
     "data": {
      "text/plain": [
       "19900"
      ]
     },
     "execution_count": 66,
     "metadata": {},
     "output_type": "execute_result"
    }
   ],
   "source": [
    "input_size = train_inputs.shape[1]\n",
    "input_size"
   ]
  },
  {
   "cell_type": "code",
   "execution_count": 67,
   "id": "94d91682",
   "metadata": {},
   "outputs": [],
   "source": [
    "from torch.utils.data import TensorDataset, DataLoader\n",
    "\n",
    "# Assuming features_tensor and labels_tensor are your data tensors\n",
    "# features_tensor = torch.randn(num_samples, 100)  # Replace with your actual data tensor\n",
    "# labels_tensor = torch.randint(0, 2, (num_samples, 1), dtype=torch.float32)  # Replace with your actual labels tensor\n",
    "\n",
    "# Create a TensorDataset\n",
    "dataset = TensorDataset(train_inputs, train_output_data)\n",
    "valdataset = TensorDataset(val_inputs, val_output_data)\n",
    "# Create a DataLoader\n",
    "batch_size = 32  # You can modify the batch size as needed\n",
    "dataloader = DataLoader(dataset, batch_size=batch_size, shuffle=True)\n",
    "valdataloader = DataLoader(valdataset, batch_size=batch_size, shuffle=True)"
   ]
  },
  {
   "cell_type": "code",
   "execution_count": 73,
   "id": "1eb64011",
   "metadata": {},
   "outputs": [
    {
     "name": "stdout",
     "output_type": "stream",
     "text": [
      "Epoch 1/200, Loss: 0.6618, Accuracy: 65.22%, val_accuracy: 69.95%, val loss for gm 0.6139\n",
      "Epoch 2/200, Loss: 0.6358, Accuracy: 65.22%, val_accuracy: 69.95%, val loss for gm 0.6006\n",
      "Epoch 3/200, Loss: 0.6222, Accuracy: 65.22%, val_accuracy: 69.95%, val loss for gm 0.5796\n",
      "Epoch 4/200, Loss: 0.5832, Accuracy: 65.22%, val_accuracy: 69.95%, val loss for gm 0.5092\n",
      "Epoch 5/200, Loss: 0.4677, Accuracy: 74.19%, val_accuracy: 90.14%, val loss for gm 0.3649\n",
      "Epoch 6/200, Loss: 0.3399, Accuracy: 89.35%, val_accuracy: 90.38%, val loss for gm 0.2848\n",
      "Epoch 7/200, Loss: 0.2677, Accuracy: 89.41%, val_accuracy: 89.42%, val loss for gm 0.2489\n",
      "Epoch 8/200, Loss: 0.2303, Accuracy: 90.43%, val_accuracy: 90.38%, val loss for gm 0.2132\n",
      "Epoch 9/200, Loss: 0.2133, Accuracy: 90.67%, val_accuracy: 89.18%, val loss for gm 0.2401\n",
      "Epoch 10/200, Loss: 0.2013, Accuracy: 91.28%, val_accuracy: 89.90%, val loss for gm 0.2109\n",
      "Epoch 11/200, Loss: 0.1883, Accuracy: 91.76%, val_accuracy: 89.66%, val loss for gm 0.2353\n",
      "Epoch 12/200, Loss: 0.1853, Accuracy: 91.46%, val_accuracy: 89.90%, val loss for gm 0.2276\n",
      "Epoch 13/200, Loss: 0.1746, Accuracy: 92.24%, val_accuracy: 89.66%, val loss for gm 0.2301\n",
      "Epoch 14/200, Loss: 0.1733, Accuracy: 92.30%, val_accuracy: 91.11%, val loss for gm 0.1975\n",
      "Epoch 15/200, Loss: 0.1639, Accuracy: 93.08%, val_accuracy: 91.59%, val loss for gm 0.1993\n",
      "Epoch 16/200, Loss: 0.1606, Accuracy: 93.02%, val_accuracy: 90.87%, val loss for gm 0.2022\n",
      "Epoch 17/200, Loss: 0.1555, Accuracy: 93.86%, val_accuracy: 91.35%, val loss for gm 0.1960\n",
      "Epoch 18/200, Loss: 0.1545, Accuracy: 93.08%, val_accuracy: 89.66%, val loss for gm 0.2298\n",
      "Epoch 19/200, Loss: 0.1479, Accuracy: 93.98%, val_accuracy: 91.83%, val loss for gm 0.1820\n",
      "Epoch 20/200, Loss: 0.1508, Accuracy: 93.32%, val_accuracy: 92.31%, val loss for gm 0.1826\n",
      "Epoch 21/200, Loss: 0.1417, Accuracy: 93.74%, val_accuracy: 92.07%, val loss for gm 0.1867\n",
      "Epoch 22/200, Loss: 0.1391, Accuracy: 94.28%, val_accuracy: 92.55%, val loss for gm 0.1807\n",
      "Epoch 23/200, Loss: 0.1374, Accuracy: 94.16%, val_accuracy: 92.31%, val loss for gm 0.1820\n",
      "Epoch 24/200, Loss: 0.1354, Accuracy: 94.71%, val_accuracy: 91.35%, val loss for gm 0.2107\n",
      "Epoch 25/200, Loss: 0.1268, Accuracy: 95.13%, val_accuracy: 93.03%, val loss for gm 0.1790\n",
      "Epoch 26/200, Loss: 0.1255, Accuracy: 94.40%, val_accuracy: 91.59%, val loss for gm 0.1846\n",
      "Epoch 27/200, Loss: 0.1249, Accuracy: 94.65%, val_accuracy: 92.07%, val loss for gm 0.1915\n",
      "Epoch 28/200, Loss: 0.1220, Accuracy: 94.89%, val_accuracy: 91.59%, val loss for gm 0.2040\n",
      "Epoch 29/200, Loss: 0.1175, Accuracy: 94.65%, val_accuracy: 91.59%, val loss for gm 0.1965\n",
      "Epoch 30/200, Loss: 0.1231, Accuracy: 94.83%, val_accuracy: 91.59%, val loss for gm 0.1920\n",
      "Epoch 31/200, Loss: 0.1162, Accuracy: 95.31%, val_accuracy: 91.59%, val loss for gm 0.1996\n",
      "Epoch 32/200, Loss: 0.1123, Accuracy: 95.49%, val_accuracy: 92.31%, val loss for gm 0.1830\n",
      "Epoch 33/200, Loss: 0.1112, Accuracy: 95.67%, val_accuracy: 92.55%, val loss for gm 0.1896\n",
      "Epoch 34/200, Loss: 0.1073, Accuracy: 95.85%, val_accuracy: 92.31%, val loss for gm 0.1882\n",
      "Epoch 35/200, Loss: 0.1053, Accuracy: 95.79%, val_accuracy: 91.83%, val loss for gm 0.2041\n",
      "Epoch 36/200, Loss: 0.1046, Accuracy: 95.91%, val_accuracy: 91.59%, val loss for gm 0.2243\n",
      "Epoch 37/200, Loss: 0.1009, Accuracy: 96.09%, val_accuracy: 92.07%, val loss for gm 0.1899\n",
      "Epoch 38/200, Loss: 0.1027, Accuracy: 96.03%, val_accuracy: 91.59%, val loss for gm 0.2128\n",
      "Epoch 39/200, Loss: 0.1063, Accuracy: 96.21%, val_accuracy: 91.35%, val loss for gm 0.2251\n",
      "Epoch 40/200, Loss: 0.0980, Accuracy: 96.33%, val_accuracy: 92.31%, val loss for gm 0.1979\n",
      "Epoch 41/200, Loss: 0.0983, Accuracy: 96.39%, val_accuracy: 93.03%, val loss for gm 0.1879\n",
      "Epoch 42/200, Loss: 0.0944, Accuracy: 96.21%, val_accuracy: 92.31%, val loss for gm 0.2120\n",
      "Epoch 43/200, Loss: 0.0955, Accuracy: 96.09%, val_accuracy: 93.03%, val loss for gm 0.1897\n",
      "Epoch 44/200, Loss: 0.0932, Accuracy: 96.51%, val_accuracy: 93.03%, val loss for gm 0.1906\n",
      "Epoch 45/200, Loss: 0.0898, Accuracy: 96.69%, val_accuracy: 92.55%, val loss for gm 0.1909\n",
      "Epoch 46/200, Loss: 0.0909, Accuracy: 96.69%, val_accuracy: 92.79%, val loss for gm 0.1947\n",
      "Epoch 47/200, Loss: 0.0867, Accuracy: 97.05%, val_accuracy: 92.55%, val loss for gm 0.2016\n",
      "Epoch 48/200, Loss: 0.0877, Accuracy: 96.69%, val_accuracy: 92.31%, val loss for gm 0.2001\n",
      "Epoch 49/200, Loss: 0.0894, Accuracy: 96.63%, val_accuracy: 93.03%, val loss for gm 0.1961\n",
      "Epoch 50/200, Loss: 0.0851, Accuracy: 96.87%, val_accuracy: 92.79%, val loss for gm 0.2002\n",
      "Epoch 51/200, Loss: 0.0840, Accuracy: 96.81%, val_accuracy: 91.59%, val loss for gm 0.2426\n",
      "Epoch 52/200, Loss: 0.0871, Accuracy: 96.69%, val_accuracy: 91.83%, val loss for gm 0.2101\n",
      "Epoch 53/200, Loss: 0.0813, Accuracy: 97.11%, val_accuracy: 92.07%, val loss for gm 0.2081\n",
      "Epoch 54/200, Loss: 0.0778, Accuracy: 97.23%, val_accuracy: 92.55%, val loss for gm 0.2044\n",
      "Epoch 55/200, Loss: 0.0810, Accuracy: 96.81%, val_accuracy: 93.03%, val loss for gm 0.2061\n",
      "Epoch 56/200, Loss: 0.0798, Accuracy: 97.29%, val_accuracy: 92.07%, val loss for gm 0.2136\n",
      "Epoch 57/200, Loss: 0.0785, Accuracy: 97.35%, val_accuracy: 92.31%, val loss for gm 0.2239\n",
      "Epoch 58/200, Loss: 0.0759, Accuracy: 97.53%, val_accuracy: 92.07%, val loss for gm 0.2243\n",
      "Epoch 59/200, Loss: 0.0791, Accuracy: 96.93%, val_accuracy: 92.07%, val loss for gm 0.2224\n",
      "Epoch 60/200, Loss: 0.0746, Accuracy: 97.05%, val_accuracy: 92.07%, val loss for gm 0.2315\n",
      "Epoch 61/200, Loss: 0.0728, Accuracy: 97.35%, val_accuracy: 92.07%, val loss for gm 0.2149\n",
      "Epoch 62/200, Loss: 0.0706, Accuracy: 97.77%, val_accuracy: 92.31%, val loss for gm 0.2160\n",
      "Epoch 63/200, Loss: 0.0700, Accuracy: 97.47%, val_accuracy: 91.35%, val loss for gm 0.2562\n",
      "Epoch 64/200, Loss: 0.0737, Accuracy: 97.17%, val_accuracy: 91.83%, val loss for gm 0.2362\n",
      "Epoch 65/200, Loss: 0.0690, Accuracy: 97.83%, val_accuracy: 92.07%, val loss for gm 0.2226\n",
      "Epoch 66/200, Loss: 0.0675, Accuracy: 97.41%, val_accuracy: 91.83%, val loss for gm 0.2378\n",
      "Epoch 67/200, Loss: 0.0727, Accuracy: 96.63%, val_accuracy: 91.83%, val loss for gm 0.2443\n",
      "Epoch 68/200, Loss: 0.0652, Accuracy: 97.89%, val_accuracy: 91.83%, val loss for gm 0.2382\n",
      "Epoch 69/200, Loss: 0.0645, Accuracy: 97.71%, val_accuracy: 91.83%, val loss for gm 0.2396\n",
      "Epoch 70/200, Loss: 0.0625, Accuracy: 98.01%, val_accuracy: 90.87%, val loss for gm 0.2693\n",
      "Epoch 71/200, Loss: 0.0633, Accuracy: 97.95%, val_accuracy: 91.11%, val loss for gm 0.2538\n",
      "Epoch 72/200, Loss: 0.0625, Accuracy: 97.77%, val_accuracy: 91.11%, val loss for gm 0.2618\n",
      "Epoch 73/200, Loss: 0.0729, Accuracy: 97.53%, val_accuracy: 91.11%, val loss for gm 0.2497\n",
      "Epoch 74/200, Loss: 0.0606, Accuracy: 97.89%, val_accuracy: 91.35%, val loss for gm 0.2523\n",
      "Epoch 75/200, Loss: 0.0635, Accuracy: 97.89%, val_accuracy: 90.87%, val loss for gm 0.2618\n",
      "Epoch 76/200, Loss: 0.0618, Accuracy: 97.83%, val_accuracy: 91.83%, val loss for gm 0.2456\n",
      "Epoch 77/200, Loss: 0.0594, Accuracy: 98.07%, val_accuracy: 90.62%, val loss for gm 0.3226\n",
      "Epoch 78/200, Loss: 0.0574, Accuracy: 98.01%, val_accuracy: 92.79%, val loss for gm 0.2471\n",
      "Epoch 79/200, Loss: 0.0565, Accuracy: 98.26%, val_accuracy: 91.83%, val loss for gm 0.2488\n",
      "Epoch 80/200, Loss: 0.0643, Accuracy: 97.65%, val_accuracy: 91.35%, val loss for gm 0.2602\n",
      "Epoch 81/200, Loss: 0.0584, Accuracy: 97.95%, val_accuracy: 92.79%, val loss for gm 0.2517\n",
      "Epoch 82/200, Loss: 0.0553, Accuracy: 98.19%, val_accuracy: 91.83%, val loss for gm 0.2538\n",
      "Epoch 83/200, Loss: 0.0580, Accuracy: 97.89%, val_accuracy: 92.31%, val loss for gm 0.2555\n",
      "Epoch 84/200, Loss: 0.0525, Accuracy: 98.38%, val_accuracy: 90.87%, val loss for gm 0.2963\n",
      "Epoch 85/200, Loss: 0.0538, Accuracy: 98.32%, val_accuracy: 91.83%, val loss for gm 0.2626\n",
      "Epoch 86/200, Loss: 0.0513, Accuracy: 98.74%, val_accuracy: 91.35%, val loss for gm 0.2681\n",
      "Epoch 87/200, Loss: 0.0522, Accuracy: 98.26%, val_accuracy: 92.31%, val loss for gm 0.2652\n",
      "Epoch 88/200, Loss: 0.0500, Accuracy: 98.68%, val_accuracy: 92.07%, val loss for gm 0.2659\n",
      "Epoch 89/200, Loss: 0.0492, Accuracy: 98.62%, val_accuracy: 90.62%, val loss for gm 0.2904\n",
      "Epoch 90/200, Loss: 0.0559, Accuracy: 98.07%, val_accuracy: 92.55%, val loss for gm 0.2680\n",
      "Epoch 91/200, Loss: 0.0523, Accuracy: 98.26%, val_accuracy: 91.11%, val loss for gm 0.2863\n",
      "Epoch 92/200, Loss: 0.0509, Accuracy: 98.32%, val_accuracy: 91.11%, val loss for gm 0.2803\n",
      "Epoch 93/200, Loss: 0.0653, Accuracy: 97.53%, val_accuracy: 91.35%, val loss for gm 0.2834\n",
      "Epoch 94/200, Loss: 0.0511, Accuracy: 98.86%, val_accuracy: 91.35%, val loss for gm 0.2818\n",
      "Epoch 95/200, Loss: 0.0473, Accuracy: 98.68%, val_accuracy: 92.31%, val loss for gm 0.2766\n",
      "Epoch 96/200, Loss: 0.0443, Accuracy: 98.86%, val_accuracy: 90.62%, val loss for gm 0.3055\n",
      "Epoch 97/200, Loss: 0.0451, Accuracy: 98.86%, val_accuracy: 90.87%, val loss for gm 0.3059\n",
      "Epoch 98/200, Loss: 0.0446, Accuracy: 98.50%, val_accuracy: 90.62%, val loss for gm 0.3215\n",
      "Epoch 99/200, Loss: 0.0419, Accuracy: 98.68%, val_accuracy: 90.38%, val loss for gm 0.3022\n",
      "Epoch 100/200, Loss: 0.0411, Accuracy: 99.04%, val_accuracy: 91.83%, val loss for gm 0.2933\n",
      "Epoch 101/200, Loss: 0.0541, Accuracy: 97.95%, val_accuracy: 92.79%, val loss for gm 0.2960\n",
      "Epoch 102/200, Loss: 0.0459, Accuracy: 98.62%, val_accuracy: 90.62%, val loss for gm 0.3093\n",
      "Epoch 103/200, Loss: 0.0442, Accuracy: 98.62%, val_accuracy: 91.11%, val loss for gm 0.3042\n",
      "Epoch 104/200, Loss: 0.0435, Accuracy: 98.80%, val_accuracy: 90.87%, val loss for gm 0.3102\n",
      "Epoch 105/200, Loss: 0.0412, Accuracy: 98.86%, val_accuracy: 90.62%, val loss for gm 0.3222\n",
      "Epoch 106/200, Loss: 0.0487, Accuracy: 97.83%, val_accuracy: 91.83%, val loss for gm 0.3032\n",
      "Epoch 107/200, Loss: 0.0440, Accuracy: 98.68%, val_accuracy: 92.31%, val loss for gm 0.3119\n",
      "Epoch 108/200, Loss: 0.0407, Accuracy: 98.80%, val_accuracy: 90.38%, val loss for gm 0.3208\n",
      "Epoch 109/200, Loss: 0.0367, Accuracy: 99.28%, val_accuracy: 90.62%, val loss for gm 0.3351\n",
      "Epoch 110/200, Loss: 0.0388, Accuracy: 98.92%, val_accuracy: 90.62%, val loss for gm 0.3281\n",
      "Epoch 111/200, Loss: 0.0373, Accuracy: 99.10%, val_accuracy: 92.07%, val loss for gm 0.3139\n",
      "Epoch 112/200, Loss: 0.0394, Accuracy: 98.86%, val_accuracy: 91.11%, val loss for gm 0.3222\n",
      "Epoch 113/200, Loss: 0.0476, Accuracy: 98.44%, val_accuracy: 92.55%, val loss for gm 0.3161\n",
      "Epoch 114/200, Loss: 0.0394, Accuracy: 98.80%, val_accuracy: 91.11%, val loss for gm 0.3193\n",
      "Epoch 115/200, Loss: 0.0343, Accuracy: 99.28%, val_accuracy: 91.11%, val loss for gm 0.3364\n",
      "Epoch 116/200, Loss: 0.0363, Accuracy: 99.04%, val_accuracy: 90.87%, val loss for gm 0.3445\n",
      "Epoch 117/200, Loss: 0.0346, Accuracy: 99.04%, val_accuracy: 91.35%, val loss for gm 0.3270\n",
      "Epoch 118/200, Loss: 0.0330, Accuracy: 99.10%, val_accuracy: 90.62%, val loss for gm 0.4053\n",
      "Epoch 119/200, Loss: 0.0344, Accuracy: 99.22%, val_accuracy: 90.62%, val loss for gm 0.3620\n",
      "Epoch 120/200, Loss: 0.0403, Accuracy: 98.62%, val_accuracy: 90.87%, val loss for gm 0.3384\n",
      "Epoch 121/200, Loss: 0.0456, Accuracy: 98.32%, val_accuracy: 91.11%, val loss for gm 0.3369\n",
      "Epoch 122/200, Loss: 0.0370, Accuracy: 98.86%, val_accuracy: 92.55%, val loss for gm 0.3490\n",
      "Epoch 123/200, Loss: 0.0435, Accuracy: 98.68%, val_accuracy: 91.11%, val loss for gm 0.3368\n",
      "Epoch 124/200, Loss: 0.0379, Accuracy: 98.50%, val_accuracy: 91.35%, val loss for gm 0.3437\n",
      "Epoch 125/200, Loss: 0.0345, Accuracy: 99.22%, val_accuracy: 91.35%, val loss for gm 0.3551\n",
      "Epoch 126/200, Loss: 0.0285, Accuracy: 99.28%, val_accuracy: 91.35%, val loss for gm 0.3494\n",
      "Epoch 127/200, Loss: 0.0300, Accuracy: 99.22%, val_accuracy: 91.35%, val loss for gm 0.3651\n",
      "Epoch 128/200, Loss: 0.0304, Accuracy: 99.22%, val_accuracy: 90.87%, val loss for gm 0.3638\n",
      "Epoch 129/200, Loss: 0.0330, Accuracy: 99.16%, val_accuracy: 91.11%, val loss for gm 0.3556\n",
      "Epoch 130/200, Loss: 0.0286, Accuracy: 99.52%, val_accuracy: 91.11%, val loss for gm 0.3624\n",
      "Epoch 131/200, Loss: 0.0278, Accuracy: 99.34%, val_accuracy: 90.62%, val loss for gm 0.3565\n",
      "Epoch 132/200, Loss: 0.0269, Accuracy: 99.58%, val_accuracy: 90.62%, val loss for gm 0.3939\n",
      "Epoch 133/200, Loss: 0.0265, Accuracy: 99.52%, val_accuracy: 90.87%, val loss for gm 0.3844\n",
      "Epoch 134/200, Loss: 0.0313, Accuracy: 98.92%, val_accuracy: 90.87%, val loss for gm 0.3723\n",
      "Epoch 135/200, Loss: 0.0247, Accuracy: 99.64%, val_accuracy: 91.11%, val loss for gm 0.3663\n",
      "Epoch 136/200, Loss: 0.0301, Accuracy: 99.28%, val_accuracy: 91.83%, val loss for gm 0.3732\n",
      "Epoch 137/200, Loss: 0.0407, Accuracy: 98.38%, val_accuracy: 92.31%, val loss for gm 0.3761\n",
      "Epoch 138/200, Loss: 0.0257, Accuracy: 99.34%, val_accuracy: 91.11%, val loss for gm 0.4037\n",
      "Epoch 139/200, Loss: 0.0230, Accuracy: 99.64%, val_accuracy: 90.62%, val loss for gm 0.3769\n",
      "Epoch 140/200, Loss: 0.0226, Accuracy: 99.64%, val_accuracy: 91.11%, val loss for gm 0.4080\n",
      "Epoch 141/200, Loss: 0.0385, Accuracy: 98.26%, val_accuracy: 90.87%, val loss for gm 0.3874\n",
      "Epoch 142/200, Loss: 0.0350, Accuracy: 98.62%, val_accuracy: 90.14%, val loss for gm 0.4387\n",
      "Epoch 143/200, Loss: 0.0255, Accuracy: 99.40%, val_accuracy: 90.87%, val loss for gm 0.3892\n",
      "Epoch 144/200, Loss: 0.0228, Accuracy: 99.40%, val_accuracy: 90.87%, val loss for gm 0.3820\n",
      "Epoch 145/200, Loss: 0.0237, Accuracy: 99.52%, val_accuracy: 91.11%, val loss for gm 0.4110\n",
      "Epoch 146/200, Loss: 0.0246, Accuracy: 99.34%, val_accuracy: 90.87%, val loss for gm 0.3935\n",
      "Epoch 147/200, Loss: 0.0193, Accuracy: 99.76%, val_accuracy: 91.11%, val loss for gm 0.3998\n",
      "Epoch 148/200, Loss: 0.0213, Accuracy: 99.52%, val_accuracy: 92.55%, val loss for gm 0.3825\n",
      "Epoch 149/200, Loss: 0.0218, Accuracy: 99.46%, val_accuracy: 90.87%, val loss for gm 0.4216\n",
      "Epoch 150/200, Loss: 0.0208, Accuracy: 99.52%, val_accuracy: 90.62%, val loss for gm 0.4113\n",
      "Epoch 151/200, Loss: 0.0176, Accuracy: 99.82%, val_accuracy: 90.62%, val loss for gm 0.4670\n",
      "Epoch 152/200, Loss: 0.0217, Accuracy: 99.46%, val_accuracy: 91.11%, val loss for gm 0.4194\n",
      "Epoch 153/200, Loss: 0.0198, Accuracy: 99.40%, val_accuracy: 92.31%, val loss for gm 0.4089\n",
      "Epoch 154/200, Loss: 0.0187, Accuracy: 99.52%, val_accuracy: 90.14%, val loss for gm 0.4730\n",
      "Epoch 155/200, Loss: 0.0232, Accuracy: 99.16%, val_accuracy: 91.11%, val loss for gm 0.4540\n",
      "Epoch 156/200, Loss: 0.0215, Accuracy: 99.58%, val_accuracy: 90.87%, val loss for gm 0.4424\n",
      "Epoch 157/200, Loss: 0.0275, Accuracy: 99.04%, val_accuracy: 90.87%, val loss for gm 0.4446\n",
      "Epoch 158/200, Loss: 0.0154, Accuracy: 99.70%, val_accuracy: 90.87%, val loss for gm 0.4465\n",
      "Epoch 159/200, Loss: 0.0176, Accuracy: 99.52%, val_accuracy: 90.62%, val loss for gm 0.5178\n",
      "Epoch 160/200, Loss: 0.0210, Accuracy: 99.46%, val_accuracy: 90.62%, val loss for gm 0.4434\n",
      "Epoch 161/200, Loss: 0.0133, Accuracy: 99.82%, val_accuracy: 90.87%, val loss for gm 0.4534\n",
      "Epoch 162/200, Loss: 0.0135, Accuracy: 99.76%, val_accuracy: 90.87%, val loss for gm 0.4460\n",
      "Epoch 163/200, Loss: 0.0143, Accuracy: 99.64%, val_accuracy: 91.59%, val loss for gm 0.4447\n",
      "Epoch 164/200, Loss: 0.0276, Accuracy: 98.92%, val_accuracy: 90.62%, val loss for gm 0.4445\n",
      "Epoch 165/200, Loss: 0.0121, Accuracy: 99.88%, val_accuracy: 91.11%, val loss for gm 0.4844\n",
      "Epoch 166/200, Loss: 0.0167, Accuracy: 99.52%, val_accuracy: 90.62%, val loss for gm 0.4625\n",
      "Epoch 167/200, Loss: 0.0172, Accuracy: 99.70%, val_accuracy: 90.62%, val loss for gm 0.4601\n",
      "Epoch 168/200, Loss: 0.0105, Accuracy: 99.94%, val_accuracy: 90.87%, val loss for gm 0.4693\n",
      "Epoch 169/200, Loss: 0.0120, Accuracy: 99.88%, val_accuracy: 90.87%, val loss for gm 0.4801\n",
      "Epoch 170/200, Loss: 0.0159, Accuracy: 99.76%, val_accuracy: 91.11%, val loss for gm 0.4743\n",
      "Epoch 171/200, Loss: 0.0122, Accuracy: 99.76%, val_accuracy: 90.62%, val loss for gm 0.4761\n",
      "Epoch 172/200, Loss: 0.0093, Accuracy: 99.82%, val_accuracy: 90.87%, val loss for gm 0.4951\n",
      "Epoch 173/200, Loss: 0.0095, Accuracy: 99.88%, val_accuracy: 90.87%, val loss for gm 0.4936\n",
      "Epoch 174/200, Loss: 0.0103, Accuracy: 99.94%, val_accuracy: 90.87%, val loss for gm 0.4946\n",
      "Epoch 175/200, Loss: 0.0097, Accuracy: 99.94%, val_accuracy: 90.62%, val loss for gm 0.5017\n",
      "Epoch 176/200, Loss: 0.0079, Accuracy: 99.88%, val_accuracy: 90.62%, val loss for gm 0.5002\n",
      "Epoch 177/200, Loss: 0.0082, Accuracy: 99.94%, val_accuracy: 90.62%, val loss for gm 0.5244\n",
      "Epoch 178/200, Loss: 0.0080, Accuracy: 99.94%, val_accuracy: 90.87%, val loss for gm 0.5441\n",
      "Epoch 179/200, Loss: 0.0077, Accuracy: 99.94%, val_accuracy: 90.62%, val loss for gm 0.5131\n",
      "Epoch 180/200, Loss: 0.0062, Accuracy: 99.94%, val_accuracy: 90.62%, val loss for gm 0.5029\n",
      "Epoch 181/200, Loss: 0.0064, Accuracy: 99.94%, val_accuracy: 90.62%, val loss for gm 0.5533\n",
      "Epoch 182/200, Loss: 0.0084, Accuracy: 99.88%, val_accuracy: 90.87%, val loss for gm 0.5301\n",
      "Epoch 183/200, Loss: 0.0086, Accuracy: 99.88%, val_accuracy: 90.62%, val loss for gm 0.5315\n",
      "Epoch 184/200, Loss: 0.0063, Accuracy: 99.94%, val_accuracy: 90.87%, val loss for gm 0.5327\n",
      "Epoch 185/200, Loss: 0.0055, Accuracy: 99.94%, val_accuracy: 90.38%, val loss for gm 0.5556\n",
      "Epoch 186/200, Loss: 0.0054, Accuracy: 99.94%, val_accuracy: 90.38%, val loss for gm 0.5585\n",
      "Epoch 187/200, Loss: 0.0124, Accuracy: 99.58%, val_accuracy: 91.83%, val loss for gm 0.5231\n",
      "Epoch 188/200, Loss: 0.0059, Accuracy: 99.94%, val_accuracy: 90.87%, val loss for gm 0.5442\n",
      "Epoch 189/200, Loss: 0.0047, Accuracy: 99.94%, val_accuracy: 90.62%, val loss for gm 0.5347\n",
      "Epoch 190/200, Loss: 0.0060, Accuracy: 99.88%, val_accuracy: 90.62%, val loss for gm 0.5714\n",
      "Epoch 191/200, Loss: 0.0068, Accuracy: 99.88%, val_accuracy: 90.87%, val loss for gm 0.6087\n",
      "Epoch 192/200, Loss: 0.0095, Accuracy: 99.76%, val_accuracy: 92.07%, val loss for gm 0.5533\n",
      "Epoch 193/200, Loss: 0.0054, Accuracy: 99.94%, val_accuracy: 91.11%, val loss for gm 0.5602\n",
      "Epoch 194/200, Loss: 0.0040, Accuracy: 100.00%, val_accuracy: 90.87%, val loss for gm 0.5702\n",
      "Epoch 195/200, Loss: 0.0036, Accuracy: 100.00%, val_accuracy: 90.62%, val loss for gm 0.5686\n",
      "Epoch 196/200, Loss: 0.0035, Accuracy: 100.00%, val_accuracy: 90.87%, val loss for gm 0.5792\n",
      "Epoch 197/200, Loss: 0.0042, Accuracy: 99.94%, val_accuracy: 90.87%, val loss for gm 0.5792\n",
      "Epoch 198/200, Loss: 0.0030, Accuracy: 100.00%, val_accuracy: 90.87%, val loss for gm 0.5823\n",
      "Epoch 199/200, Loss: 0.0031, Accuracy: 100.00%, val_accuracy: 90.38%, val loss for gm 0.6031\n",
      "Epoch 200/200, Loss: 0.0041, Accuracy: 100.00%, val_accuracy: 90.14%, val loss for gm 0.6138\n"
     ]
    }
   ],
   "source": [
    "import torch\n",
    "import torch.nn as nn\n",
    "import torch.optim as optim\n",
    "\n",
    "# Neural Network Class\n",
    "class SimpleNN(nn.Module):\n",
    "    def __init__(self):\n",
    "        super(SimpleNN, self).__init__()\n",
    "        self.fc1 = nn.Linear(input_size, 200)  # First hidden layer\n",
    "        self.fc2 = nn.Linear(200, 100)   # Second hidden layer\n",
    "        self.fc3 = nn.Linear(100, 1)    # Output layer\n",
    "\n",
    "    def forward(self, x):\n",
    "        x = torch.relu(self.fc1(x))\n",
    "        x = torch.relu(self.fc2(x))\n",
    "        x = torch.sigmoid(self.fc3(x))  # Sigmoid for binary classification\n",
    "        return x\n",
    "\n",
    "# Create the network\n",
    "model = SimpleNN()\n",
    "\n",
    "# Loss and Optimizer\n",
    "criterion = nn.BCELoss()  # Binary Cross-Entropy Loss\n",
    "optimizer = optim.Adam(model.parameters(), lr=0.001)\n",
    "\n",
    "train_accuracy_list = []\n",
    "val_accuracy_list = []\n",
    "train_loss_list = []\n",
    "val_loss_list = []\n",
    "\n",
    "# Training Loop\n",
    "for epoch in range(num_epochs):  # num_epochs is the number of epochs\n",
    "    total_loss = 0\n",
    "    correct_predictions = 0\n",
    "    total_predictions = 0\n",
    "    model.train()\n",
    "    for batch in dataloader:  # dataloader is your data loader\n",
    "        inputs, labels = batch\n",
    "        optimizer.zero_grad()\n",
    "        outputs = model(inputs)\n",
    "        loss = criterion(outputs, labels)\n",
    "        total_loss += loss.item()\n",
    "        loss.backward()\n",
    "        optimizer.step()\n",
    "        \n",
    "        predicted = outputs.round()  # Applying a threshold of 0.5\n",
    "        correct_predictions += (predicted == labels).sum().item()\n",
    "        total_predictions += labels.size(0)\n",
    "    \n",
    "    model.eval()  # Set the model to evaluation mode\n",
    "    with torch.no_grad():  # Disable gradient computation\n",
    "        val_loss, val_correct, val_total = 0, 0, 0\n",
    "\n",
    "        for inputs, labels in valdataloader:\n",
    "            outputs = model(inputs)\n",
    "            loss = criterion(outputs, labels)\n",
    "\n",
    "            val_loss += loss.item()\n",
    "            val_correct += (outputs.round() == labels).sum().item()\n",
    "            val_total += labels.size(0)\n",
    "        report_this = val_loss / len(valdataloader)\n",
    "        val_accuracy = 100 * val_correct / val_total\n",
    "    \n",
    "    \n",
    "    \n",
    "    average_loss = total_loss / len(dataloader)\n",
    "    accuracy = correct_predictions / total_predictions * 100\n",
    "    \n",
    "    #store\n",
    "    train_accuracy_list.append(accuracy)\n",
    "    val_accuracy_list.append(val_accuracy)\n",
    "    train_loss_list.append(average_loss)\n",
    "    val_loss_list.append(report_this)\n",
    "\n",
    "    print(f\"Epoch {epoch+1}/{num_epochs}, Loss: {average_loss:.4f}, Accuracy: {accuracy:.2f}%, val_accuracy: {val_accuracy:.2f}%, val loss for gm {report_this:.4f}\")"
   ]
  },
  {
   "cell_type": "code",
   "execution_count": null,
   "id": "3d96dfb9",
   "metadata": {},
   "outputs": [],
   "source": [
    "50 bins to 88.31%\n",
    "100 bins got to 91.67% accuracy\n",
    "200 bins got to 92.54%"
   ]
  },
  {
   "cell_type": "code",
   "execution_count": null,
   "id": "2f55e80a",
   "metadata": {},
   "outputs": [],
   "source": [
    "differences\n",
    "200 gets to 93.26"
   ]
  },
  {
   "cell_type": "code",
   "execution_count": null,
   "id": "ba5f8c53",
   "metadata": {},
   "outputs": [],
   "source": [
    "with interactions (products with all other normalized bins):\n",
    "200 got to 99.76% jk, got to 100\n"
   ]
  },
  {
   "cell_type": "code",
   "execution_count": 81,
   "id": "cee1b666",
   "metadata": {},
   "outputs": [],
   "source": [
    "def show_performance_curves(training_loss,validation_loss,training_accuracy,validation_accuracy): \n",
    "    # this function is taken from prof snyder's notebook\n",
    "    plt.figure(figsize=(5, 3))\n",
    "    plt.plot(training_loss,label='Training',color='g')\n",
    "    plt.plot(validation_loss,label='Validation',color='b')\n",
    "    plt.title('Training and Validation Loss')\n",
    "    plt.legend(loc='upper right')\n",
    "#     plt.ylim(-0.1,(max(max(training_loss),max(validation_loss))*1.1) )\n",
    "    plt.grid()\n",
    "    plt.xlabel(\"Epochs\")\n",
    "    plt.ylabel(\"Loss\")\n",
    "    plt.show()\n",
    "    \n",
    "    print('Final Training Loss:  ',np.around(training_loss[-1],6))\n",
    "    print('Final Validation Loss:',np.around(validation_loss[-1],6))\n",
    "    \n",
    "    plt.figure(figsize=(5, 3))\n",
    "    plt.plot(training_accuracy,label='Training',color='g')\n",
    "    plt.plot(validation_accuracy,label='Validation',color='b')\n",
    "    plt.title('Training and Validation Accuracy')\n",
    "    plt.legend(loc='lower right')\n",
    "#     plt.ylim(-0.1,1.1)\n",
    "    plt.grid()\n",
    "    plt.xlabel(\"Epochs\")\n",
    "    plt.ylabel(\"Accuracy\")\n",
    "    plt.show()\n",
    "    \n",
    "    print('Final Training Accuracy:  ',np.around(training_accuracy[-1],6))\n",
    "    print('Final Validation Accuracy:',np.around(validation_accuracy[-1],6))\n",
    "    print()\n",
    "    \n"
   ]
  },
  {
   "cell_type": "code",
   "execution_count": 82,
   "id": "e3840df7",
   "metadata": {},
   "outputs": [
    {
     "data": {
      "image/png": "[encoded data removed]",
      "text/plain": [
       "<Figure size 500x300 with 1 Axes>"
      ]
     },
     "metadata": {},
     "output_type": "display_data"
    },
    {
     "name": "stdout",
     "output_type": "stream",
     "text": [
      "Final Training Loss:   0.004086\n",
      "Final Validation Loss: 0.613812\n"
     ]
    },
    {
     "data": {
      "image/png": "[encoded data removed]",
      "text/plain": [
       "<Figure size 500x300 with 1 Axes>"
      ]
     },
     "metadata": {},
     "output_type": "display_data"
    },
    {
     "name": "stdout",
     "output_type": "stream",
     "text": [
      "Final Training Accuracy:   100.0\n",
      "Final Validation Accuracy: 90.144231\n",
      "\n"
     ]
    }
   ],
   "source": [
    "show_performance_curves(train_loss_list,val_loss_list,train_accuracy_list,val_accuracy_list)"
   ]
  },
  {
   "cell_type": "code",
   "execution_count": 78,
   "id": "1ab56851",
   "metadata": {},
   "outputs": [],
   "source": [
    "import matplotlib.pyplot as plt"
   ]
  },
  {
   "cell_type": "code",
   "execution_count": 80,
   "id": "aeea8841",
   "metadata": {},
   "outputs": [],
   "source": [
    "import numpy as np"
   ]
  },
  {
   "cell_type": "code",
   "execution_count": null,
   "id": "133c4dbc",
   "metadata": {},
   "outputs": [],
   "source": []
  }
 ],
 "metadata": {
  "kernelspec": {
   "display_name": "Python 3 (ipykernel)",
   "language": "python",
   "name": "python3"
  },
  "language_info": {
   "codemirror_mode": {
    "name": "ipython",
    "version": 3
   },
   "file_extension": ".py",
   "mimetype": "text/x-python",
   "name": "python",
   "nbconvert_exporter": "python",
   "pygments_lexer": "ipython3",
   "version": "3.10.12"
  }
 },
 "nbformat": 4,
 "nbformat_minor": 5
}
