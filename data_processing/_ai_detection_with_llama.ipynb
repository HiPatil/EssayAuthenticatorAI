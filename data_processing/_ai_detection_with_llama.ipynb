{
 "cells": [
  {
   "cell_type": "code",
   "execution_count": 1,
   "id": "66f73101",
   "metadata": {},
   "outputs": [],
   "source": [
    "import sys\n",
    "\n",
    "sys.path.append('/projectnb/textconv/llama/packages')\n",
    "\n",
    "import fairscale\n",
    "import os\n",
    "import torch"
   ]
  },
  {
   "cell_type": "code",
   "execution_count": 2,
   "id": "511ad2e1",
   "metadata": {},
   "outputs": [],
   "source": [
    "from fairscale.nn.model_parallel.initialize import (\n",
    "    get_model_parallel_rank,\n",
    "    initialize_model_parallel,\n",
    "    model_parallel_is_initialized,\n",
    ")"
   ]
  },
  {
   "cell_type": "code",
   "execution_count": 3,
   "id": "bd51b64a",
   "metadata": {},
   "outputs": [],
   "source": [
    "from llama.generation import Llama, Dialog\n",
    "from llama.model import ModelArgs, Transformer\n",
    "from llama.tokenizer import Tokenizer"
   ]
  },
  {
   "cell_type": "code",
   "execution_count": 4,
   "id": "718853aa",
   "metadata": {},
   "outputs": [
    {
     "name": "stdout",
     "output_type": "stream",
     "text": [
      "Number of CUDA devices available: 1\n",
      "Device 0: Tesla V100-PCIE-16GB\n"
     ]
    }
   ],
   "source": [
    "\n",
    "\n",
    "# Check if CUDA is available\n",
    "if torch.cuda.is_available():\n",
    "    # Get the number of CUDA devices\n",
    "    num_cuda_devices = torch.cuda.device_count()\n",
    "    print(f\"Number of CUDA devices available: {num_cuda_devices}\")\n",
    "\n",
    "    # List the properties of each CUDA device\n",
    "    for i in range(num_cuda_devices):\n",
    "        device = torch.device(f'cuda:{i}')\n",
    "        print(f\"Device {i}: {torch.cuda.get_device_name(i)}\")\n",
    "else:\n",
    "    print(\"CUDA is not available on this system.\")"
   ]
  },
  {
   "cell_type": "code",
   "execution_count": 5,
   "id": "c8e54a59",
   "metadata": {},
   "outputs": [],
   "source": [
    "\n",
    "os.environ['RANK'] = '0'\n",
    "os.environ['WORLD_SIZE'] = '1'\n",
    "os.environ['MASTER_ADDR'] = 'localhost'\n",
    "os.environ['MASTER_PORT'] = '8888' #since i am doing my llama stuff already haha\n",
    "os.environ['CUDA_LAUNCH_BLOCKING'] = '1'\n",
    "#os.environ['TORCH_USE_CUDA_DSA'] = '1'"
   ]
  },
  {
   "cell_type": "code",
   "execution_count": 6,
   "id": "1f44f08a",
   "metadata": {},
   "outputs": [
    {
     "name": "stdout",
     "output_type": "stream",
     "text": [
      "> initializing model parallel with size 1\n",
      "> initializing ddp with size 1\n",
      "> initializing pipeline with size 1\n",
      "Loaded in 30.44 seconds\n"
     ]
    }
   ],
   "source": [
    "generator = Llama.build(\n",
    "        ckpt_dir=\"llama-2-7b/\",\n",
    "        tokenizer_path=\"tokenizer.model\",\n",
    "        max_seq_len=512, #max_seq_len....\n",
    "        max_batch_size=6,\n",
    "    )"
   ]
  },
  {
   "cell_type": "markdown",
   "id": "bb0a37d4",
   "metadata": {},
   "source": [
    "torchrun --nproc_per_node 1 example_text_completion.py \\\n",
    "    --ckpt_dir llama-2-7b/ \\\n",
    "    --tokenizer_path tokenizer.model \\\n",
    "    --max_seq_len 128 --max_batch_size 4\n",
    "    "
   ]
  },
  {
   "cell_type": "code",
   "execution_count": 7,
   "id": "1a989e79",
   "metadata": {},
   "outputs": [
    {
     "data": {
      "text/plain": [
       "<llama.tokenizer.Tokenizer at 0x149890f87f10>"
      ]
     },
     "execution_count": 7,
     "metadata": {},
     "output_type": "execute_result"
    }
   ],
   "source": [
    "generator.tokenizer"
   ]
  },
  {
   "cell_type": "code",
   "execution_count": null,
   "id": "202dcd38",
   "metadata": {},
   "outputs": [],
   "source": [
    "##you probs gotta kill something if you came from the other llama sheet."
   ]
  },
  {
   "cell_type": "code",
   "execution_count": 7,
   "id": "7fc272ac",
   "metadata": {},
   "outputs": [],
   "source": [
    "prompt_tokens = generator.tokenizer.encode(\n",
    "                        f\"This essay was totally written by a person.\",\n",
    "                        bos=True,\n",
    "                        eos=True,\n",
    "                    )"
   ]
  },
  {
   "cell_type": "code",
   "execution_count": 8,
   "id": "70e6b6b6",
   "metadata": {},
   "outputs": [],
   "source": [
    "prompt_tokens = [prompt_tokens]"
   ]
  },
  {
   "cell_type": "code",
   "execution_count": 9,
   "id": "7fb60086",
   "metadata": {},
   "outputs": [
    {
     "data": {
      "text/plain": [
       "[[1, 910, 3686, 388, 471, 14909, 3971, 491, 263, 2022, 29889, 2]]"
      ]
     },
     "execution_count": 9,
     "metadata": {},
     "output_type": "execute_result"
    }
   ],
   "source": [
    "prompt_tokens"
   ]
  },
  {
   "cell_type": "code",
   "execution_count": 10,
   "id": "7978a8aa",
   "metadata": {},
   "outputs": [],
   "source": [
    "total_len = generator.model.params.max_seq_len\n",
    "\n",
    "pad_id = generator.tokenizer.pad_id \n",
    "bsz = len(prompt_tokens)\n",
    "tokens = torch.full((bsz, total_len), pad_id, dtype=torch.long, device=\"cuda\")\n",
    "for k, t in enumerate(prompt_tokens):\n",
    "    tokens[k, : len(t)] = torch.tensor(t, dtype=torch.long, device=\"cuda\")"
   ]
  },
  {
   "cell_type": "code",
   "execution_count": 11,
   "id": "b4fbd0cf",
   "metadata": {},
   "outputs": [
    {
     "data": {
      "text/plain": [
       "tensor([[    1,   910,  3686,   388,   471, 14909,  3971,   491,   263,  2022,\n",
       "         29889,     2,    -1,    -1,    -1,    -1,    -1,    -1,    -1,    -1,\n",
       "            -1,    -1,    -1,    -1,    -1,    -1,    -1,    -1,    -1,    -1,\n",
       "            -1,    -1,    -1,    -1,    -1,    -1,    -1,    -1,    -1,    -1,\n",
       "            -1,    -1,    -1,    -1,    -1,    -1,    -1,    -1,    -1,    -1,\n",
       "            -1,    -1,    -1,    -1,    -1,    -1,    -1,    -1,    -1,    -1,\n",
       "            -1,    -1,    -1,    -1,    -1,    -1,    -1,    -1,    -1,    -1,\n",
       "            -1,    -1,    -1,    -1,    -1,    -1,    -1,    -1,    -1,    -1,\n",
       "            -1,    -1,    -1,    -1,    -1,    -1,    -1,    -1,    -1,    -1,\n",
       "            -1,    -1,    -1,    -1,    -1,    -1,    -1,    -1,    -1,    -1,\n",
       "            -1,    -1,    -1,    -1,    -1,    -1,    -1,    -1,    -1,    -1,\n",
       "            -1,    -1,    -1,    -1,    -1,    -1,    -1,    -1,    -1,    -1,\n",
       "            -1,    -1,    -1,    -1,    -1,    -1,    -1,    -1,    -1,    -1,\n",
       "            -1,    -1,    -1,    -1,    -1,    -1,    -1,    -1,    -1,    -1,\n",
       "            -1,    -1,    -1,    -1,    -1,    -1,    -1,    -1,    -1,    -1,\n",
       "            -1,    -1,    -1,    -1,    -1,    -1,    -1,    -1,    -1,    -1,\n",
       "            -1,    -1,    -1,    -1,    -1,    -1,    -1,    -1,    -1,    -1,\n",
       "            -1,    -1,    -1,    -1,    -1,    -1,    -1,    -1,    -1,    -1,\n",
       "            -1,    -1,    -1,    -1,    -1,    -1,    -1,    -1,    -1,    -1,\n",
       "            -1,    -1,    -1,    -1,    -1,    -1,    -1,    -1,    -1,    -1,\n",
       "            -1,    -1,    -1,    -1,    -1,    -1,    -1,    -1,    -1,    -1,\n",
       "            -1,    -1,    -1,    -1,    -1,    -1,    -1,    -1,    -1,    -1,\n",
       "            -1,    -1,    -1,    -1,    -1,    -1,    -1,    -1,    -1,    -1,\n",
       "            -1,    -1,    -1,    -1,    -1,    -1,    -1,    -1,    -1,    -1,\n",
       "            -1,    -1,    -1,    -1,    -1,    -1,    -1,    -1,    -1,    -1,\n",
       "            -1,    -1,    -1,    -1,    -1,    -1,    -1,    -1,    -1,    -1,\n",
       "            -1,    -1,    -1,    -1,    -1,    -1,    -1,    -1,    -1,    -1,\n",
       "            -1,    -1,    -1,    -1,    -1,    -1,    -1,    -1,    -1,    -1,\n",
       "            -1,    -1,    -1,    -1,    -1,    -1,    -1,    -1,    -1,    -1,\n",
       "            -1,    -1,    -1,    -1,    -1,    -1,    -1,    -1,    -1,    -1,\n",
       "            -1,    -1,    -1,    -1,    -1,    -1,    -1,    -1,    -1,    -1,\n",
       "            -1,    -1,    -1,    -1,    -1,    -1,    -1,    -1,    -1,    -1,\n",
       "            -1,    -1,    -1,    -1,    -1,    -1,    -1,    -1,    -1,    -1,\n",
       "            -1,    -1,    -1,    -1,    -1,    -1,    -1,    -1,    -1,    -1,\n",
       "            -1,    -1,    -1,    -1,    -1,    -1,    -1,    -1,    -1,    -1,\n",
       "            -1,    -1,    -1,    -1,    -1,    -1,    -1,    -1,    -1,    -1,\n",
       "            -1,    -1,    -1,    -1,    -1,    -1,    -1,    -1,    -1,    -1,\n",
       "            -1,    -1,    -1,    -1,    -1,    -1,    -1,    -1,    -1,    -1,\n",
       "            -1,    -1,    -1,    -1,    -1,    -1,    -1,    -1,    -1,    -1,\n",
       "            -1,    -1,    -1,    -1,    -1,    -1,    -1,    -1,    -1,    -1,\n",
       "            -1,    -1,    -1,    -1,    -1,    -1,    -1,    -1,    -1,    -1,\n",
       "            -1,    -1,    -1,    -1,    -1,    -1,    -1,    -1,    -1,    -1,\n",
       "            -1,    -1,    -1,    -1,    -1,    -1,    -1,    -1,    -1,    -1,\n",
       "            -1,    -1,    -1,    -1,    -1,    -1,    -1,    -1,    -1,    -1,\n",
       "            -1,    -1,    -1,    -1,    -1,    -1,    -1,    -1,    -1,    -1,\n",
       "            -1,    -1,    -1,    -1,    -1,    -1,    -1,    -1,    -1,    -1,\n",
       "            -1,    -1,    -1,    -1,    -1,    -1,    -1,    -1,    -1,    -1,\n",
       "            -1,    -1,    -1,    -1,    -1,    -1,    -1,    -1,    -1,    -1,\n",
       "            -1,    -1,    -1,    -1,    -1,    -1,    -1,    -1,    -1,    -1,\n",
       "            -1,    -1,    -1,    -1,    -1,    -1,    -1,    -1,    -1,    -1,\n",
       "            -1,    -1,    -1,    -1,    -1,    -1,    -1,    -1,    -1,    -1,\n",
       "            -1,    -1]])"
      ]
     },
     "execution_count": 11,
     "metadata": {},
     "output_type": "execute_result"
    }
   ],
   "source": [
    "tokens"
   ]
  },
  {
   "cell_type": "code",
   "execution_count": 13,
   "id": "91674d3a",
   "metadata": {},
   "outputs": [
    {
     "name": "stdout",
     "output_type": "stream",
     "text": [
      "tensor([[491]])\n",
      "torch.Size([1, 32000]) torch.Size([1, 32000]) torch.Size([1, 1])\n",
      "tensor([102.])\n"
     ]
    }
   ],
   "source": [
    "######\n",
    "i = 6\n",
    "model_result = generator.model.forward(tokens[:,0:i],0) #if i pass in 9 tokens, it is spitting out 9 tokens.  \n",
    "last_logits = model_result[:, -1]  ###this is where we could put temperature. https://github.com/facebookresearch/llama/blob/main/llama/generation.py#L192 \n",
    "vocab_dim = 32_000\n",
    "data_tensor = last_logits\n",
    "sorted_data, _ = data_tensor.sort(dim=1, descending=True)\n",
    "indices_tensor = tokens[:,i+1].unsqueeze(0)\n",
    "print(indices_tensor)\n",
    "print(data_tensor.shape, sorted_data.shape,indices_tensor.shape )\n",
    "ranks = torch.where(sorted_data == data_tensor.gather(1, indices_tensor), torch.arange(1, vocab_dim + 1).unsqueeze(0), torch.zeros(1))\n",
    "ranks = torch.max(ranks,axis =-1).values\n",
    "print(ranks)"
   ]
  },
  {
   "cell_type": "code",
   "execution_count": 16,
   "id": "428fe487",
   "metadata": {},
   "outputs": [
    {
     "data": {
      "text/plain": [
       "tensor([[    1,   910,  3686,   388,   471, 14909]])"
      ]
     },
     "execution_count": 16,
     "metadata": {},
     "output_type": "execute_result"
    }
   ],
   "source": [
    "tokens[:,0:i]"
   ]
  },
  {
   "cell_type": "code",
   "execution_count": 20,
   "id": "c0ac1e89",
   "metadata": {},
   "outputs": [
    {
     "data": {
      "text/plain": [
       "torch.Size([1, 32000])"
      ]
     },
     "execution_count": 20,
     "metadata": {},
     "output_type": "execute_result"
    }
   ],
   "source": [
    "generator.model.forward(torch.tensor(prompt_tokens),0)[:, -1].shape"
   ]
  },
  {
   "cell_type": "code",
   "execution_count": 51,
   "id": "048a40eb",
   "metadata": {},
   "outputs": [],
   "source": [
    "prompt_tokens = generator.tokenizer.encode(\n",
    "                        f\"This essay was totally written by a person.\",\n",
    "                        bos=True,\n",
    "                        eos=True,\n",
    "                    )\n",
    "prompt_tokens = [prompt_tokens]\n",
    "\n",
    "def tokenize_sentence(sentence):\n",
    "    prompt_tokens = generator.tokenizer.encode(\n",
    "                        sentence,\n",
    "                        bos=True,\n",
    "                        eos=True,\n",
    "    )\n",
    "    return torch.tensor([prompt_tokens])\n",
    "\n",
    "def selection_tensor(model, indices, vocab_dim = 32_000):\n",
    "    \"\"\"\n",
    "    model will be llama, give it generator.model, and indices should be a tensor of batch 1\n",
    "    so will look like tensor([[    1,   910,  3686,   388}]])\n",
    "    not sure we can vectorize this?\n",
    "    \"\"\"\n",
    "    rank_list = []\n",
    "    seq_len = len(indices[0])\n",
    "    \n",
    "    #i think these are right, all the indexing.  allow the prints to prove it.\n",
    "    \n",
    "    for i in range(1,seq_len): #maybe we skip the first one? idk ask the boyz\n",
    "        \n",
    "        #print(indices[:,0:i],indices[:,i])\n",
    "        \n",
    "        model_result = model.forward(indices[:,0:i],0) \n",
    "        data_tensor = model_result[:, -1]  #temperature here if you wana\n",
    "        sorted_data, _ = data_tensor.sort(dim=1, descending=True)\n",
    "        indices_tensor = indices[:,i].unsqueeze(0) #get the next token, to compare to the model result\n",
    "        ranks = torch.where(sorted_data == data_tensor.gather(1, indices_tensor), torch.arange(1, vocab_dim + 1).unsqueeze(0), torch.zeros(1))\n",
    "        ranks = int(torch.max(ranks,axis =-1).values)\n",
    "        rank_list.append(ranks)\n",
    "    return rank_list\n",
    "\n",
    "def large_selection_tensor(model, indices, vocab_dim = 32_000, max_seq_len=512):\n",
    "    \"\"\"\n",
    "    model will be llama, give it generator.model, and indices should be a tensor of batch 1\n",
    "    so will look like tensor([[    1,   910,  3686,   388}]])\n",
    "    not sure we can vectorize this?\n",
    "    \"\"\"\n",
    "    rank_list = []\n",
    "    seq_len = len(indices[0])\n",
    "    \n",
    "    #i think these are right, all the indexing.  allow the prints to prove it.\n",
    "    \n",
    "    for i in range(1,seq_len): #maybe we skip the first one? idk ask the boyz\n",
    "        \n",
    "        #print(indices[:,0:i],indices[:,i])\n",
    "        \n",
    "        start_idx = max(0,i-max_seq_len)\n",
    "        \n",
    "        model_result = model.forward(indices[:,start_idx:i],0) \n",
    "        #print(start_idx, model_result.shape)\n",
    "        data_tensor = model_result[:, -1]  #temperature here if you wana\n",
    "        sorted_data, _ = data_tensor.sort(dim=1, descending=True)\n",
    "        indices_tensor = indices[:,i].unsqueeze(0) #get the next token, to compare to the model result\n",
    "        ranks = torch.where(sorted_data == data_tensor.gather(1, indices_tensor), torch.arange(1, vocab_dim + 1).unsqueeze(0), torch.zeros(1))\n",
    "        ranks = int(torch.max(ranks,axis =-1).values)\n",
    "        rank_list.append(ranks)\n",
    "    return rank_list\n",
    "\n",
    "def process_essay(essay_text, model):\n",
    "    essay_tokens = tokenize_sentence(essay_text)\n",
    "    idx_list = large_selection_tensor(model, essay_tokens)\n",
    "    return idx_list\n",
    "\n",
    "def process_essays(model, input_df, result_file):\n",
    "    try:\n",
    "        # Load the existing result file if it exists\n",
    "        new_df = pd.read_csv(result_file)\n",
    "        processed_ids = set(new_df[\"id\"].tolist())\n",
    "    except FileNotFoundError:\n",
    "        # If the file doesn't exist, create an empty DataFrame and dictionary\n",
    "        new_df = pd.DataFrame(columns=[\"id\", \"indexes\"])\n",
    "        processed_ids = {}\n",
    "\n",
    "    # Iterate through the original DataFrame\n",
    "    for index, row in input_df.iterrows():\n",
    "        essay_id = row[\"id\"]\n",
    "        essay_text = row[\"text\"]\n",
    "\n",
    "        # Check if the ID has already been processed\n",
    "        if essay_id in processed_ids:\n",
    "            print(f\"ID {essay_id} has already been processed. Skipping...\")\n",
    "            continue\n",
    "\n",
    "        try:\n",
    "            # Process the essay text\n",
    "            indexes = process_essay(essay_text, model)\n",
    "            max_idx = new_df.index.max()\n",
    "            write_idx = max_idx + 1\n",
    "            new_df.loc[write_idx] = [str(essay_id),indexes]\n",
    "            new_df.to_csv(result_file, index=False)\n",
    "            processed_ids.add(essay_id)\n",
    "            \n",
    "            print(f\"Processed ID {essay_id} successfully.\")\n",
    "\n",
    "        except Exception as e:\n",
    "            print(f\"Error processing ID {essay_id}: {str(e)}\")\n",
    "\n",
    "    # After processing all essays, save the final new DataFrame\n",
    "    new_df.to_csv(result_file, index=False)"
   ]
  },
  {
   "cell_type": "code",
   "execution_count": 55,
   "id": "39b1dad1",
   "metadata": {},
   "outputs": [
    {
     "name": "stdout",
     "output_type": "stream",
     "text": [
      "   id      text\n",
      "0   1  new text\n",
      "1   2  new text\n",
      "2   3  new text\n",
      "3   4  new text\n",
      "4   5  new text\n",
      "5   6  new text\n",
      "6   7  new text\n",
      "7   8  new text\n",
      "8   9  new text\n",
      "9  10  new text\n"
     ]
    }
   ],
   "source": [
    "import pandas as pd\n",
    "import random\n",
    "import string\n",
    "\n",
    "# Create a list of unique IDs\n",
    "ids = [1, 2, 3,4,5,6,7,8,9,10]\n",
    "\n",
    "# Generate random text for the \"text\" column\n",
    "\n",
    "\n",
    "text_data = [\"new text\" for _ in range(len(ids))]\n",
    "\n",
    "# Create the DataFrame\n",
    "data = {'id': ids, 'text': text_data}\n",
    "df = pd.DataFrame(data)\n",
    "\n",
    "# Display the DataFrame\n",
    "print(df)"
   ]
  },
  {
   "cell_type": "code",
   "execution_count": 45,
   "id": "b89a8dce",
   "metadata": {},
   "outputs": [
    {
     "data": {
      "text/plain": [
       "6"
      ]
     },
     "execution_count": 45,
     "metadata": {},
     "output_type": "execute_result"
    }
   ],
   "source": []
  },
  {
   "cell_type": "code",
   "execution_count": 50,
   "id": "9e5c170a",
   "metadata": {},
   "outputs": [
    {
     "name": "stdout",
     "output_type": "stream",
     "text": [
      "   id                                               text\n",
      "0   1  Hi this is a pretend essay baby. and this is m...\n",
      "1   2  Hi this is a pretend essay baby. and this is m...\n",
      "2   3  Hi this is a pretend essay baby. and this is m...\n",
      "3   4  Hi this is a pretend essay baby. and this is m...\n",
      "4   5  Hi this is a pretend essay baby. and this is m...\n",
      "5   6  Hi this is a pretend essay baby. and this is m...\n",
      "6   7  Hi this is a pretend essay baby. and this is m...\n",
      "11  8                                          [1, 2, 3]\n",
      "12  8                                       [1, 2, 3, 4]\n"
     ]
    }
   ],
   "source": [
    "df.loc[12] = ['8',[1,2,3,4]]\n",
    "print(df)"
   ]
  },
  {
   "cell_type": "code",
   "execution_count": 43,
   "id": "af7f47d4",
   "metadata": {},
   "outputs": [
    {
     "data": {
      "text/plain": [
       "7"
      ]
     },
     "execution_count": 43,
     "metadata": {},
     "output_type": "execute_result"
    }
   ],
   "source": [
    "max_id = df['id'].max()\n",
    "max_id"
   ]
  },
  {
   "cell_type": "code",
   "execution_count": 56,
   "id": "a4123e12",
   "metadata": {},
   "outputs": [
    {
     "name": "stdout",
     "output_type": "stream",
     "text": [
      "ID 1 has already been processed. Skipping...\n",
      "ID 2 has already been processed. Skipping...\n",
      "ID 3 has already been processed. Skipping...\n",
      "ID 4 has already been processed. Skipping...\n",
      "ID 5 has already been processed. Skipping...\n",
      "ID 6 has already been processed. Skipping...\n",
      "ID 7 has already been processed. Skipping...\n",
      "Processed ID 8 successfully.\n",
      "Processed ID 9 successfully.\n",
      "Processed ID 10 successfully.\n"
     ]
    }
   ],
   "source": [
    "process_essays(generator.model, input_df = df, result_file = \"teste_res.csv\")"
   ]
  },
  {
   "cell_type": "code",
   "execution_count": 57,
   "id": "809ea3df",
   "metadata": {},
   "outputs": [
    {
     "data": {
      "text/html": [
       "<div>\n",
       "<style scoped>\n",
       "    .dataframe tbody tr th:only-of-type {\n",
       "        vertical-align: middle;\n",
       "    }\n",
       "\n",
       "    .dataframe tbody tr th {\n",
       "        vertical-align: top;\n",
       "    }\n",
       "\n",
       "    .dataframe thead th {\n",
       "        text-align: right;\n",
       "    }\n",
       "</style>\n",
       "<table border=\"1\" class=\"dataframe\">\n",
       "  <thead>\n",
       "    <tr style=\"text-align: right;\">\n",
       "      <th></th>\n",
       "      <th>id</th>\n",
       "      <th>indexes</th>\n",
       "    </tr>\n",
       "  </thead>\n",
       "  <tbody>\n",
       "    <tr>\n",
       "      <th>0</th>\n",
       "      <td>1</td>\n",
       "      <td>[190, 27, 1, 2, 2160, 1, 126, 1, 2346, 1, 92, ...</td>\n",
       "    </tr>\n",
       "    <tr>\n",
       "      <th>1</th>\n",
       "      <td>2</td>\n",
       "      <td>[190, 27, 1, 2, 2160, 1, 126, 1, 2346, 1, 92, ...</td>\n",
       "    </tr>\n",
       "    <tr>\n",
       "      <th>2</th>\n",
       "      <td>3</td>\n",
       "      <td>[190, 27, 1, 2, 2160, 1, 126, 1, 2346, 1, 92, ...</td>\n",
       "    </tr>\n",
       "    <tr>\n",
       "      <th>3</th>\n",
       "      <td>4</td>\n",
       "      <td>[190, 27, 1, 2, 2160, 1, 126, 1, 2346, 1, 92, ...</td>\n",
       "    </tr>\n",
       "    <tr>\n",
       "      <th>4</th>\n",
       "      <td>5</td>\n",
       "      <td>[190, 27, 1, 2, 2160, 1, 126, 1, 2346, 1, 92, ...</td>\n",
       "    </tr>\n",
       "    <tr>\n",
       "      <th>5</th>\n",
       "      <td>6</td>\n",
       "      <td>[190, 27, 1, 2, 2160, 1, 126, 1, 2346, 1, 92, ...</td>\n",
       "    </tr>\n",
       "    <tr>\n",
       "      <th>6</th>\n",
       "      <td>7</td>\n",
       "      <td>[190, 27, 1, 2, 2160, 1, 126, 1, 2346, 1, 92, ...</td>\n",
       "    </tr>\n",
       "    <tr>\n",
       "      <th>7</th>\n",
       "      <td>8</td>\n",
       "      <td>[1368, 388, 979]</td>\n",
       "    </tr>\n",
       "    <tr>\n",
       "      <th>8</th>\n",
       "      <td>9</td>\n",
       "      <td>[1368, 388, 979]</td>\n",
       "    </tr>\n",
       "    <tr>\n",
       "      <th>9</th>\n",
       "      <td>10</td>\n",
       "      <td>[1368, 388, 979]</td>\n",
       "    </tr>\n",
       "  </tbody>\n",
       "</table>\n",
       "</div>"
      ],
      "text/plain": [
       "   id                                            indexes\n",
       "0   1  [190, 27, 1, 2, 2160, 1, 126, 1, 2346, 1, 92, ...\n",
       "1   2  [190, 27, 1, 2, 2160, 1, 126, 1, 2346, 1, 92, ...\n",
       "2   3  [190, 27, 1, 2, 2160, 1, 126, 1, 2346, 1, 92, ...\n",
       "3   4  [190, 27, 1, 2, 2160, 1, 126, 1, 2346, 1, 92, ...\n",
       "4   5  [190, 27, 1, 2, 2160, 1, 126, 1, 2346, 1, 92, ...\n",
       "5   6  [190, 27, 1, 2, 2160, 1, 126, 1, 2346, 1, 92, ...\n",
       "6   7  [190, 27, 1, 2, 2160, 1, 126, 1, 2346, 1, 92, ...\n",
       "7   8                                   [1368, 388, 979]\n",
       "8   9                                   [1368, 388, 979]\n",
       "9  10                                   [1368, 388, 979]"
      ]
     },
     "execution_count": 57,
     "metadata": {},
     "output_type": "execute_result"
    }
   ],
   "source": [
    "x = pd.read_csv(\"teste_res.csv\")\n",
    "x"
   ]
  },
  {
   "cell_type": "code",
   "execution_count": 58,
   "id": "27aafe2d",
   "metadata": {},
   "outputs": [],
   "source": [
    "x.to_json('data.json', orient='records')"
   ]
  },
  {
   "cell_type": "code",
   "execution_count": 21,
   "id": "2e0a56c5",
   "metadata": {},
   "outputs": [
    {
     "name": "stdout",
     "output_type": "stream",
     "text": [
      "tensor([[    1,  1749,  6368,   338,   925,   393,   263,  2022,  5007,   263,\n",
      "         10541,   756,   263,  3109,  8500,   519,  9262,     2]])\n"
     ]
    },
    {
     "data": {
      "text/plain": [
       "[3120, 3092, 2, 28, 2, 11, 8, 287, 1, 44, 6, 2, 506, 113, 1, 189, 361]"
      ]
     },
     "execution_count": 21,
     "metadata": {},
     "output_type": "execute_result"
    }
   ],
   "source": [
    "sentence = \"our theory is just that a person writing a sentence has a less predictable selection\"\n",
    "test_tokens = tokenize_sentence(sentence)\n",
    "print(test_tokens)\n",
    "selection_tensor(generator.model,test_tokens)"
   ]
  },
  {
   "cell_type": "code",
   "execution_count": 22,
   "id": "06cbeddb",
   "metadata": {},
   "outputs": [
    {
     "data": {
      "text/plain": [
       "[3120, 3092, 2, 28, 2, 11, 8, 287, 1, 44, 6, 2, 506, 113, 1, 189, 361]"
      ]
     },
     "execution_count": 22,
     "metadata": {},
     "output_type": "execute_result"
    }
   ],
   "source": [
    "# should do it in one call\n",
    "process_essay(sentence, generator.model) #beautiful"
   ]
  },
  {
   "cell_type": "code",
   "execution_count": 16,
   "id": "e9d21373",
   "metadata": {},
   "outputs": [],
   "source": [
    "sentence = pokemon_essay\n",
    "test_tokens = tokenize_sentence(sentence)\n",
    "pokemon_list = large_selection_tensor(generator.model, test_tokens)\n",
    "#selection_tensor(generator.model,test_tokens)"
   ]
  },
  {
   "cell_type": "code",
   "execution_count": 18,
   "id": "5cfb69e0",
   "metadata": {},
   "outputs": [
    {
     "data": {
      "text/plain": [
       "924"
      ]
     },
     "execution_count": 18,
     "metadata": {},
     "output_type": "execute_result"
    }
   ],
   "source": [
    "len(pokemon_list)"
   ]
  },
  {
   "cell_type": "code",
   "execution_count": null,
   "id": "efa58e28",
   "metadata": {},
   "outputs": [],
   "source": [
    "\n",
    "\n",
    "\n"
   ]
  },
  {
   "cell_type": "code",
   "execution_count": 15,
   "id": "a02bb973",
   "metadata": {},
   "outputs": [],
   "source": [
    "pokemon_essay = \"\"\"\n",
    "The World of Pokémon: Exploring the Fascination of These Fascinating Creatures\n",
    "\n",
    "Pokémon, short for Pocket Monsters, is a global phenomenon that has captivated the hearts and minds of people of all ages since its inception in the late 1990s. While the Pokémon franchise encompasses various aspects, such as video games, trading cards, an animated TV series, and merchandise, at the heart of it all are the intriguing and diverse creatures known as Pokémon. These fictional creatures have proven to be more than just collectible characters; they are a rich source of interest and fascination, both for their unique characteristics and the deeper themes they represent.\n",
    "\n",
    "One of the most intriguing aspects of Pokémon is the sheer diversity of these creatures. With over 800 different species of Pokémon, each possessing distinct abilities, types, and appearances, there is an endless variety for fans to explore and engage with. From the fire-breathing Charizard to the enigmatic Psychic-type Mewtwo, every Pokémon is a unique entity with its own set of strengths and weaknesses. This diversity fosters a sense of discovery and curiosity as players and fans strive to learn more about these fantastical creatures.\n",
    "\n",
    "Furthermore, the concept of capturing and training Pokémon adds an element of personal connection and growth to the franchise. Trainers, the individuals in the Pokémon world who catch and raise these creatures, develop bonds with their Pokémon akin to the relationships between pet owners and their animals in the real world. This bond goes beyond mere gameplay mechanics; it's a testament to the emotional depth and complexity that the franchise offers. The process of nurturing and evolving Pokémon mirrors personal growth, and many players find themselves invested in the development of their virtual companions.\n",
    "\n",
    "Beyond their role as collectible creatures, Pokémon also serve as powerful symbols of themes like friendship, teamwork, and environmental awareness. The central ethos of the Pokémon world is encapsulated in the phrase Gotta Catch 'Em All, which encourages players to explore, connect, and collaborate with others in their quest to complete the Pokédex, an encyclopedia of Pokémon species. This emphasis on camaraderie and cooperation has made Pokémon a vehicle for teaching valuable life lessons about the importance of working together to achieve common goals.\n",
    "\n",
    "Pokémon also delves into complex moral and ethical dilemmas. For instance, the game often confronts players with the question of whether it is right to capture and battle these creatures for personal gain. It encourages players to consider the well-being of the Pokémon and the consequences of their actions. These ethical quandaries stimulate critical thinking and promote discussions about the responsibilities that come with power and ambition.\n",
    "\n",
    "Another fascinating aspect of Pokémon is its ability to adapt and evolve with the times. The franchise has continued to innovate and expand, introducing new generations of Pokémon with each installment. It has successfully transitioned into augmented reality with the mobile game Pokémon GO, which brought the world of Pokémon into the real world. This adaptability ensures that Pokémon remains relevant and engaging for new generations of fans while retaining its nostalgic appeal for long-time enthusiasts.\n",
    "\n",
    "In conclusion, Pokémon is not merely a collection of interesting creatures but a cultural phenomenon that has endured for decades. Its enduring popularity can be attributed to the captivating diversity of its creatures, the emotional connections forged between trainers and their Pokémon, and the powerful themes it explores. Pokémon serves as a reminder of the value of exploration, friendship, and ethical reflection. As the franchise continues to evolve and grow, it will undoubtedly continue to capture the imaginations of people worldwide, making these fascinating creatures an enduring part of our cultural landscape.\n",
    "\"\"\"\n"
   ]
  },
  {
   "cell_type": "code",
   "execution_count": 41,
   "id": "907a26ab",
   "metadata": {},
   "outputs": [
    {
     "data": {
      "image/png": "[encoded data removed]",
      "text/plain": [
       "<Figure size 640x480 with 1 Axes>"
      ]
     },
     "metadata": {},
     "output_type": "display_data"
    }
   ],
   "source": [
    "import numpy as np\n",
    "import matplotlib.pyplot as plt\n",
    "\n",
    "def custom_histogram(indexes, max_bin):\n",
    "    # Count the occurrences of each index\n",
    "    counts = np.bincount(indexes)\n",
    "\n",
    "    # Create bins up to max_bin\n",
    "    bins = np.arange(max_bin + 1)\n",
    "\n",
    "    # Merge the counts above max_bin into the final bin\n",
    "    if len(counts) > max_bin + 1:\n",
    "        counts[max_bin] += sum(counts[max_bin + 1:])\n",
    "        counts = counts[:max_bin + 1]\n",
    "\n",
    "    # Plot the histogram\n",
    "    plt.bar(bins, counts, align='center', width=0.9)\n",
    "    plt.xlabel('Index')\n",
    "    plt.ylabel('Count')\n",
    "    plt.title('Custom Histogram')\n",
    "    plt.show()\n",
    "\n",
    "# Example usage\n",
    "\n",
    "\n",
    "\n",
    "def custom_histogram_log(indexes, max_bin, title=\"suck nuts\"):\n",
    "    # Count the occurrences of each index\n",
    "    counts = np.bincount(indexes)\n",
    "\n",
    "    # Create bins up to max_bin\n",
    "    bins = np.arange(max_bin + 1)\n",
    "\n",
    "    # Merge the counts above max_bin into the final bin\n",
    "    if len(counts) > max_bin + 1:\n",
    "        counts[max_bin] += sum(counts[max_bin + 1:])\n",
    "        counts = counts[:max_bin + 1]\n",
    "\n",
    "    # Plot the histogram on a logarithmic scale (base 10)\n",
    "    plt.bar(bins, counts, align='center', width=0.9)\n",
    "    plt.yscale('log')  # Set the y-axis to a logarithmic scale\n",
    "    plt.xlabel('Index')\n",
    "    plt.ylabel('Count (log scale)')\n",
    "    plt.title(title)\n",
    "    plt.show()\n",
    "\n",
    "# Example usage\n",
    "indexes = [1, 2, 2, 3, 3, 3, 4, 5, 6, 7, 8, 9, 10, 11, 12, 13, 14, 15, 16, 17, 18, 19, 20, 21, 22, 23, 24, 25]\n",
    "max_bin = 10\n",
    "title = 'Custom Histogram (log scale)'\n",
    "custom_histogram_log(indexes, max_bin, title)"
   ]
  },
  {
   "cell_type": "code",
   "execution_count": null,
   "id": "ef0567fd",
   "metadata": {},
   "outputs": [],
   "source": [
    "max_bin = 100\n",
    "custom_histogram(pokemon_list, max_bin)"
   ]
  },
  {
   "cell_type": "code",
   "execution_count": 35,
   "id": "feccc623",
   "metadata": {},
   "outputs": [],
   "source": [
    "human_test = \"\"\"Cars. Cars have been around since they became famous in the 1900s, when Henry Ford created and built the first ModelT. Cars have played a major role in our every day lives since then. But now, people are starting to question if limiting car usage would be a good thing. To me, limiting the use of cars might be a good thing to do.\n",
    "\n",
    "In like matter of this, article, \"In German Suburb, Life Goes On Without Cars,\" by Elizabeth Rosenthal states, how automobiles are the linchpin of suburbs, where middle class families from either Shanghai or Chicago tend to make their homes. Experts say how this is a huge impediment to current efforts to reduce greenhouse gas emissions from tailpipe. Passenger cars are responsible for 12 percent of greenhouse gas emissions in Europe...and up to 50 percent in some carintensive areas in the United States. Cars are the main reason for the greenhouse gas emissions because of a lot of people driving them around all the time getting where they need to go. Article, \"Paris bans driving due to smog,\" by Robert Duffer says, how Paris, after days of nearrecord pollution, enforced a partial driving ban to clear the air of the global city. It also says, how on Monday, motorist with evennumbered license plates were ordered to leave their cars at home or be fined a 22euro fine 31. The same order would be applied to oddnumbered plates the following day. Cars are the reason for polluting entire cities like Paris. This shows how bad cars can be because, of all the pollution that they can cause to an entire city.\n",
    "\n",
    "Likewise, in the article, \"Carfree day is spinning into a big hit in Bogota,\" by Andrew Selsky says, how programs that's set to spread to other countries, millions of Columbians hiked, biked, skated, or took the bus to work during a carfree day, leaving streets of this capital city eerily devoid of traffic jams. It was the third straight year cars have been banned with only buses and taxis permitted for the Day Without Cars in the capital city of 7 million. People like the idea of having carfree days because, it allows them to lesson the pollution that cars put out of their exhaust from people driving all the time. The article also tells how parks and sports centers have bustled throughout the city uneven, pitted sidewalks have been replaced by broad, smooth sidewalks rushhour restrictions have dramatically cut traffic and new restaurants and upscale shopping districts have cropped up. Having no cars has been good for the country of Columbia because, it has aloud them to repair things that have needed repairs for a long time, traffic jams have gone down, and restaurants and shopping districts have popped up, all due to the fact of having less cars around.\n",
    "\n",
    "In conclusion, the use of less cars and having carfree days, have had a big impact on the environment of cities because, it is cutting down the air pollution that the cars have majorly polluted, it has aloud countries like Columbia to repair sidewalks, and cut down traffic jams. Limiting the use of cars would be a good thing for America. So we should limit the use of cars by maybe riding a bike, or maybe walking somewhere that isn't that far from you and doesn't need the use of a car to get you there. To me, limiting the use of cars might be a good thing to do.\n",
    "\"\"\""
   ]
  },
  {
   "cell_type": "code",
   "execution_count": 39,
   "id": "79ccf6d3",
   "metadata": {},
   "outputs": [],
   "source": [
    "sentence = human_test\n",
    "test_tokens = tokenize_sentence(sentence)\n",
    "human_list = large_selection_tensor(generator.model, test_tokens)"
   ]
  },
  {
   "cell_type": "code",
   "execution_count": 42,
   "id": "d232e6f4",
   "metadata": {},
   "outputs": [
    {
     "data": {
      "image/png": "[encoded data removed]",
      "text/plain": [
       "<Figure size 640x480 with 1 Axes>"
      ]
     },
     "metadata": {},
     "output_type": "display_data"
    },
    {
     "data": {
      "image/png": "[encoded data removed]",
      "text/plain": [
       "<Figure size 640x480 with 1 Axes>"
      ]
     },
     "metadata": {},
     "output_type": "display_data"
    }
   ],
   "source": [
    "custom_histogram(human_list, max_bin = 100)\n",
    "custom_histogram_log(human_list, max_bin = 100)"
   ]
  },
  {
   "cell_type": "code",
   "execution_count": 43,
   "id": "7cd636bc",
   "metadata": {},
   "outputs": [
    {
     "data": {
      "image/png": "[encoded data removed]",
      "text/plain": [
       "<Figure size 640x480 with 1 Axes>"
      ]
     },
     "metadata": {},
     "output_type": "display_data"
    },
    {
     "data": {
      "image/png": "[encoded data removed]",
      "text/plain": [
       "<Figure size 640x480 with 1 Axes>"
      ]
     },
     "metadata": {},
     "output_type": "display_data"
    }
   ],
   "source": [
    "custom_histogram(pokemon_list, max_bin = 100)\n",
    "custom_histogram_log(pokemon_list, max_bin = 100)"
   ]
  },
  {
   "cell_type": "code",
   "execution_count": 51,
   "id": "556b7d69",
   "metadata": {},
   "outputs": [
    {
     "data": {
      "text/plain": [
       "tensor([[-8.9141, -8.6406,  2.7539,  ..., -3.9766, -5.2070, -3.9004]],\n",
       "       dtype=torch.float32)"
      ]
     },
     "execution_count": 51,
     "metadata": {},
     "output_type": "execute_result"
    }
   ],
   "source": [
    "model_result[:, -1] ###this is just the last in the sequence. "
   ]
  },
  {
   "cell_type": "code",
   "execution_count": 48,
   "id": "ebc4c22d",
   "metadata": {},
   "outputs": [],
   "source": [
    "next_token = torch.argmax(model_result[:, -1], dim=-1)"
   ]
  },
  {
   "cell_type": "code",
   "execution_count": 49,
   "id": "8abdfecc",
   "metadata": {},
   "outputs": [
    {
     "data": {
      "text/plain": [
       "(tensor([263]),\n",
       " tensor([[[-1.2828e+01, -7.4570e+00, -4.6582e-01,  ..., -6.7812e+00,\n",
       "           -8.0156e+00, -7.5039e+00],\n",
       "          [-1.3914e+01, -1.1062e+01, -4.8047e+00,  ..., -8.3672e+00,\n",
       "           -9.4219e+00, -9.1250e+00],\n",
       "          [-2.8477e+00,  1.8301e+00,  8.7969e+00,  ...,  4.0508e+00,\n",
       "            2.0977e+00,  2.4121e+00],\n",
       "          ...,\n",
       "          [-7.7773e+00, -7.9727e+00,  3.7578e+00,  ..., -2.1641e+00,\n",
       "           -5.0156e+00, -1.3154e+00],\n",
       "          [-4.8945e+00, -5.1133e+00,  6.8711e+00,  ..., -3.6016e+00,\n",
       "           -2.1016e+00, -8.6365e-03],\n",
       "          [-8.9141e+00, -8.6406e+00,  2.7539e+00,  ..., -3.9766e+00,\n",
       "           -5.2070e+00, -3.9004e+00]]], dtype=torch.float32))"
      ]
     },
     "execution_count": 49,
     "metadata": {},
     "output_type": "execute_result"
    }
   ],
   "source": [
    "next_token,model_result"
   ]
  },
  {
   "cell_type": "code",
   "execution_count": 50,
   "id": "ecb3c3bf",
   "metadata": {},
   "outputs": [
    {
     "name": "stdout",
     "output_type": "stream",
     "text": [
      "tensor(917) ▁Tags\n",
      "tensor(338) ▁is\n",
      "tensor(388) ay\n",
      "tensor(338) ▁is\n",
      "tensor(10437) ▁originally\n",
      "tensor(20603) ▁inspired\n",
      "tensor(491) ▁by\n",
      "tensor(263) ▁a\n"
     ]
    }
   ],
   "source": [
    "for i in torch.argmax(model_result,axis = -1)[0]:\n",
    "    print(i,generator.tokenizer.sp_model.id_to_piece(int(i)))"
   ]
  },
  {
   "cell_type": "code",
   "execution_count": 27,
   "id": "990519ce",
   "metadata": {},
   "outputs": [
    {
     "name": "stdout",
     "output_type": "stream",
     "text": [
      "torch.Size([1, 9, 32000])\n"
     ]
    },
    {
     "data": {
      "text/plain": [
       "tensor([[  917,   338,   388,   338, 10437, 20603,   491,   263,  9225]])"
      ]
     },
     "execution_count": 27,
     "metadata": {},
     "output_type": "execute_result"
    }
   ],
   "source": [
    "print(model_result.shape)\n",
    "torch.argmax(model_result, axis =-1)"
   ]
  },
  {
   "cell_type": "code",
   "execution_count": 18,
   "id": "b9e2edd1",
   "metadata": {},
   "outputs": [
    {
     "data": {
      "text/plain": [
       "'▁This'"
      ]
     },
     "execution_count": 18,
     "metadata": {},
     "output_type": "execute_result"
    }
   ],
   "source": [
    "piece = generator.tokenizer.sp_model.id_to_piece(910)\n",
    "piece"
   ]
  },
  {
   "cell_type": "code",
   "execution_count": 105,
   "id": "18eca0ea",
   "metadata": {},
   "outputs": [
    {
     "data": {
      "text/plain": [
       "['__class__',\n",
       " '__delattr__',\n",
       " '__dict__',\n",
       " '__dir__',\n",
       " '__doc__',\n",
       " '__eq__',\n",
       " '__format__',\n",
       " '__ge__',\n",
       " '__getattribute__',\n",
       " '__gt__',\n",
       " '__hash__',\n",
       " '__init__',\n",
       " '__init_subclass__',\n",
       " '__le__',\n",
       " '__lt__',\n",
       " '__module__',\n",
       " '__ne__',\n",
       " '__new__',\n",
       " '__reduce__',\n",
       " '__reduce_ex__',\n",
       " '__repr__',\n",
       " '__setattr__',\n",
       " '__sizeof__',\n",
       " '__str__',\n",
       " '__subclasshook__',\n",
       " '__weakref__',\n",
       " 'build',\n",
       " 'chat_completion',\n",
       " 'generate',\n",
       " 'model',\n",
       " 'text_completion',\n",
       " 'tokenizer']"
      ]
     },
     "execution_count": 105,
     "metadata": {},
     "output_type": "execute_result"
    }
   ],
   "source": [
    "dir(generator)"
   ]
  },
  {
   "cell_type": "code",
   "execution_count": null,
   "id": "5a2b5779",
   "metadata": {},
   "outputs": [],
   "source": [
    "prompts: List[str],\n",
    "        temperature: float = 0.6,\n",
    "        top_p: float = 0.9,\n",
    "        max_gen_len: Optional[int] = None,\n",
    "        logprobs: bool = False,\n",
    "        echo: bool = False,"
   ]
  },
  {
   "cell_type": "code",
   "execution_count": 28,
   "id": "023a2a51",
   "metadata": {},
   "outputs": [
    {
     "data": {
      "text/plain": [
       "[{'generation': '.\\n',\n",
       "  'tokens': ['.', '\\n'],\n",
       "  'logprobs': [-1.8350802659988403, -0.7871227264404297]},\n",
       " {'generation': 'fuck',\n",
       "  'tokens': ['f', 'uck'],\n",
       "  'logprobs': [-0.46609020233154297, -0.684036135673523]}]"
      ]
     },
     "execution_count": 28,
     "metadata": {},
     "output_type": "execute_result"
    }
   ],
   "source": [
    "generator.text_completion(prompts=[\"hi there. write something\",'whats good bitch ass mother'],temperature=0,max_gen_len=2,logprobs=True)\n",
    "#this is what i have to match essentially.  oh no, reduce temperature.  "
   ]
  },
  {
   "cell_type": "code",
   "execution_count": 81,
   "id": "08d5290f",
   "metadata": {},
   "outputs": [
    {
     "name": "stdout",
     "output_type": "stream",
     "text": [
      "torch.Size([1, 5]) torch.Size([1, 5]) torch.Size([1, 1])\n",
      "tensor([[0.4529, 0.5381, 0.9604, 0.7471, 0.8032]]) tensor([[0]])\n",
      "tensor([[0., 0., 0., 0., 5.]])\n"
     ]
    }
   ],
   "source": [
    "\n",
    "batch_size = 1\n",
    "vocab_dim = 5\n",
    "\n",
    "data_tensor = torch.rand((batch_size, vocab_dim))\n",
    "\n",
    "# Create a tensor of indices\n",
    "indices_tensor = torch.randint(0, vocab_dim, (batch_size, 1))\n",
    "#print(indices_tensor)\n",
    "# Sort the data tensor along the appropriate dimension in descending order\n",
    "sorted_data, _ = data_tensor.sort(dim=1, descending=True)\n",
    "\n",
    "print(data_tensor.shape, sorted_data.shape,indices_tensor.shape )\n",
    "# Use torch.where to find the ranks of the indices\n",
    "ranks = torch.where(sorted_data == data_tensor.gather(1, indices_tensor), torch.arange(1, vocab_dim + 1).unsqueeze(0), torch.zeros(1))\n",
    "\n",
    "# Convert ranks to a tensor of shape batch_size x 1\n",
    "\n",
    "print(data_tensor,indices_tensor)\n",
    "print(ranks)\n",
    "ranks = torch.max(ranks,axis =-1).values"
   ]
  },
  {
   "cell_type": "code",
   "execution_count": 70,
   "id": "cd127c87",
   "metadata": {},
   "outputs": [
    {
     "data": {
      "text/plain": [
       "tensor([3., 1., 3., 3.])"
      ]
     },
     "execution_count": 70,
     "metadata": {},
     "output_type": "execute_result"
    }
   ],
   "source": [
    "ranks"
   ]
  },
  {
   "cell_type": "code",
   "execution_count": null,
   "id": "fffec178",
   "metadata": {},
   "outputs": [],
   "source": []
  }
 ],
 "metadata": {
  "kernelspec": {
   "display_name": "Python 3 (ipykernel)",
   "language": "python",
   "name": "python3"
  },
  "language_info": {
   "codemirror_mode": {
    "name": "ipython",
    "version": 3
   },
   "file_extension": ".py",
   "mimetype": "text/x-python",
   "name": "python",
   "nbconvert_exporter": "python",
   "pygments_lexer": "ipython3",
   "version": "3.10.12"
  }
 },
 "nbformat": 4,
 "nbformat_minor": 5
}
